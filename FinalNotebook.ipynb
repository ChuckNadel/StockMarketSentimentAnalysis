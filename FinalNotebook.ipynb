{
 "cells": [
  {
   "attachments": {},
   "cell_type": "markdown",
   "metadata": {},
   "source": [
    "# Retail Investor Sentiment Analysis as a Predictor of Market Performance"
   ]
  },
  {
   "cell_type": "code",
   "execution_count": 73,
   "metadata": {},
   "outputs": [
    {
     "name": "stderr",
     "output_type": "stream",
     "text": [
      "[nltk_data] Downloading package stopwords to\n",
      "[nltk_data]     C:\\Users\\cnade\\AppData\\Roaming\\nltk_data...\n",
      "[nltk_data]   Package stopwords is already up-to-date!\n"
     ]
    }
   ],
   "source": [
    "# Standard Packages\n",
    "import pandas as pd\n",
    "import numpy as np\n",
    "import markdown\n",
    "import os\n",
    "from datetime import datetime\n",
    "import yfinance as yf\n",
    "import re\n",
    "\n",
    "    # Progress Bar\n",
    "from tqdm.notebook import tqdm\n",
    "#tqdm.pandas(desc=\"progress-bar\")\n",
    "\n",
    "\n",
    "# Viz Packages\n",
    "import seaborn as sns\n",
    "import matplotlib.pyplot as plt\n",
    "\n",
    "# Natural Language Processing\n",
    "import nltk\n",
    "nltk.download('stopwords')\n",
    "from nltk.corpus import stopwords\n",
    "from vaderSentiment.vaderSentiment import SentimentIntensityAnalyzer\n",
    "\n",
    "# Statsmodel Api\n",
    "import statsmodels.api as sm\n",
    "from statsmodels.formula.api import ols\n",
    "\n",
    "# SKLearn Modules\n",
    "from sklearn import utils\n",
    "from sklearn.linear_model import LogisticRegression\n",
    "from sklearn.feature_selection import RFE\n",
    "from sklearn.preprocessing import StandardScaler, MinMaxScaler\n",
    "from sklearn.metrics import r2_score, mean_squared_error, mean_absolute_error, log_loss, confusion_matrix, classification_report, accuracy_score, recall_score, precision_score, f1_score, ConfusionMatrixDisplay\n",
    "from sklearn.model_selection import cross_validate, KFold, cross_val_score, GridSearchCV, TimeSeriesSplit\n",
    "from sklearn.pipeline import Pipeline\n",
    "from sklearn.neighbors import KNeighborsClassifier\n",
    "from sklearn.tree import DecisionTreeClassifier, plot_tree\n",
    "from sklearn.ensemble import RandomForestClassifier, AdaBoostClassifier, GradientBoostingClassifier\n",
    "from sklearn.naive_bayes import GaussianNB\n",
    "\n",
    "# Suppress future, deprecation, and SettingWithCopy warnings\n",
    "import warnings\n",
    "warnings.filterwarnings(\"ignore\", category= FutureWarning)\n",
    "warnings.filterwarnings(\"ignore\", category=DeprecationWarning)\n",
    "pd.options.mode.chained_assignment = None\n"
   ]
  },
  {
   "attachments": {},
   "cell_type": "markdown",
   "metadata": {},
   "source": [
    "## The Business Problem"
   ]
  },
  {
   "attachments": {},
   "cell_type": "markdown",
   "metadata": {},
   "source": [
    "#### We've been tasked by Point72 to conduct a sentiment analysis on a forum of retail investors, in order for them to implement them on top of their existing systematic trading algorithms"
   ]
  },
  {
   "attachments": {},
   "cell_type": "markdown",
   "metadata": {},
   "source": [
    "## Data Preparation and Understanding"
   ]
  },
  {
   "attachments": {},
   "cell_type": "markdown",
   "metadata": {},
   "source": [
    "#### For our data, we scraped r/Investing Daily Discussion Posts and Comments to gauge investor sentiment on a given trading day. We also will use yahoo finance data on the S&P 500 for our classification analysis"
   ]
  },
  {
   "cell_type": "code",
   "execution_count": 74,
   "metadata": {},
   "outputs": [],
   "source": [
    "# Reddit Data\n",
    "comments = pd.read_csv('comment_data.csv')\n",
    "posts = pd.read_csv('post_data.csv')\n",
    "# Yahoo Finance Data\n",
    "market_data = yf.Ticker('^GSPC').history(period = '2y')"
   ]
  },
  {
   "attachments": {},
   "cell_type": "markdown",
   "metadata": {},
   "source": [
    "#### Dropping Useless Columns"
   ]
  },
  {
   "cell_type": "code",
   "execution_count": 75,
   "metadata": {},
   "outputs": [
    {
     "name": "stdout",
     "output_type": "stream",
     "text": [
      "<class 'pandas.core.frame.DataFrame'>\n",
      "RangeIndex: 250 entries, 0 to 249\n",
      "Data columns (total 5 columns):\n",
      " #   Column     Non-Null Count  Dtype  \n",
      "---  ------     --------------  -----  \n",
      " 0   title      250 non-null    object \n",
      " 1   url        250 non-null    object \n",
      " 2   id         250 non-null    object \n",
      " 3   comms_num  250 non-null    int64  \n",
      " 4   created    250 non-null    float64\n",
      "dtypes: float64(1), int64(1), object(3)\n",
      "memory usage: 9.9+ KB\n"
     ]
    }
   ],
   "source": [
    "posts.drop(['Unnamed: 0', 'body'], axis = 1, inplace = True)\n",
    "posts.info()"
   ]
  },
  {
   "cell_type": "code",
   "execution_count": 76,
   "metadata": {},
   "outputs": [
    {
     "name": "stdout",
     "output_type": "stream",
     "text": [
      "<class 'pandas.core.frame.DataFrame'>\n",
      "RangeIndex: 108051 entries, 0 to 108050\n",
      "Data columns (total 6 columns):\n",
      " #   Column             Non-Null Count   Dtype  \n",
      "---  ------             --------------   -----  \n",
      " 0   comment_id         108051 non-null  object \n",
      " 1   comment_parent_id  108051 non-null  object \n",
      " 2   comment_body       108051 non-null  object \n",
      " 3   comment_link_id    108051 non-null  object \n",
      " 4   comment_score      108051 non-null  int64  \n",
      " 5   comment_time       108051 non-null  float64\n",
      "dtypes: float64(1), int64(1), object(4)\n",
      "memory usage: 4.9+ MB\n"
     ]
    }
   ],
   "source": [
    "comments.drop('Unnamed: 0', axis = 1, inplace = True)\n",
    "comments.info()"
   ]
  },
  {
   "cell_type": "code",
   "execution_count": 77,
   "metadata": {},
   "outputs": [],
   "source": [
    "market_data.drop(['High','Low','Volume','Dividends','Stock Splits'], axis = 1, inplace = True)"
   ]
  },
  {
   "attachments": {},
   "cell_type": "markdown",
   "metadata": {},
   "source": [
    "## Data Preparation"
   ]
  },
  {
   "attachments": {},
   "cell_type": "markdown",
   "metadata": {},
   "source": [
    "#### Converting comment_time, post_time from unix to datetime object"
   ]
  },
  {
   "cell_type": "code",
   "execution_count": 78,
   "metadata": {},
   "outputs": [],
   "source": [
    "comments['comment_time'] = pd.to_datetime(comments['comment_time'], unit = 's')\n",
    "posts['created'] = pd.to_datetime(posts['created'], unit = 's')"
   ]
  },
  {
   "cell_type": "code",
   "execution_count": 79,
   "metadata": {},
   "outputs": [
    {
     "data": {
      "text/html": [
       "<div>\n",
       "<style scoped>\n",
       "    .dataframe tbody tr th:only-of-type {\n",
       "        vertical-align: middle;\n",
       "    }\n",
       "\n",
       "    .dataframe tbody tr th {\n",
       "        vertical-align: top;\n",
       "    }\n",
       "\n",
       "    .dataframe thead th {\n",
       "        text-align: right;\n",
       "    }\n",
       "</style>\n",
       "<table border=\"1\" class=\"dataframe\">\n",
       "  <thead>\n",
       "    <tr style=\"text-align: right;\">\n",
       "      <th></th>\n",
       "      <th>comment_id</th>\n",
       "      <th>comment_parent_id</th>\n",
       "      <th>comment_body</th>\n",
       "      <th>comment_link_id</th>\n",
       "      <th>comment_score</th>\n",
       "      <th>comment_time</th>\n",
       "    </tr>\n",
       "  </thead>\n",
       "  <tbody>\n",
       "    <tr>\n",
       "      <th>108046</th>\n",
       "      <td>i383kpe</td>\n",
       "      <td>t1_i383899</td>\n",
       "      <td>I'm not sure if I totally agree with that stat...</td>\n",
       "      <td>t3_ttmn8e</td>\n",
       "      <td>2</td>\n",
       "      <td>2022-04-03 14:09:27</td>\n",
       "    </tr>\n",
       "    <tr>\n",
       "      <th>108047</th>\n",
       "      <td>i35qfix</td>\n",
       "      <td>t1_i327mum</td>\n",
       "      <td>16 next week on Ukrain news, technicals out of...</td>\n",
       "      <td>t3_ttmn8e</td>\n",
       "      <td>1</td>\n",
       "      <td>2022-04-02 22:26:44</td>\n",
       "    </tr>\n",
       "    <tr>\n",
       "      <th>108048</th>\n",
       "      <td>i2zu7fi</td>\n",
       "      <td>t1_i2zu2l6</td>\n",
       "      <td>Again. That's the problem. You don't care\\n\\nY...</td>\n",
       "      <td>t3_ttmn8e</td>\n",
       "      <td>1</td>\n",
       "      <td>2022-04-01 15:38:50</td>\n",
       "    </tr>\n",
       "    <tr>\n",
       "      <th>108049</th>\n",
       "      <td>i3872do</td>\n",
       "      <td>t1_i383kpe</td>\n",
       "      <td>It is not my own opinion (when I buy index fun...</td>\n",
       "      <td>t3_ttmn8e</td>\n",
       "      <td>2</td>\n",
       "      <td>2022-04-03 14:36:45</td>\n",
       "    </tr>\n",
       "    <tr>\n",
       "      <th>108050</th>\n",
       "      <td>i2zumck</td>\n",
       "      <td>t1_i2zu7fi</td>\n",
       "      <td>[deleted]</td>\n",
       "      <td>t3_ttmn8e</td>\n",
       "      <td>3</td>\n",
       "      <td>2022-04-01 15:41:36</td>\n",
       "    </tr>\n",
       "  </tbody>\n",
       "</table>\n",
       "</div>"
      ],
      "text/plain": [
       "       comment_id comment_parent_id  \\\n",
       "108046    i383kpe        t1_i383899   \n",
       "108047    i35qfix        t1_i327mum   \n",
       "108048    i2zu7fi        t1_i2zu2l6   \n",
       "108049    i3872do        t1_i383kpe   \n",
       "108050    i2zumck        t1_i2zu7fi   \n",
       "\n",
       "                                             comment_body comment_link_id  \\\n",
       "108046  I'm not sure if I totally agree with that stat...       t3_ttmn8e   \n",
       "108047  16 next week on Ukrain news, technicals out of...       t3_ttmn8e   \n",
       "108048  Again. That's the problem. You don't care\\n\\nY...       t3_ttmn8e   \n",
       "108049  It is not my own opinion (when I buy index fun...       t3_ttmn8e   \n",
       "108050                                          [deleted]       t3_ttmn8e   \n",
       "\n",
       "        comment_score        comment_time  \n",
       "108046              2 2022-04-03 14:09:27  \n",
       "108047              1 2022-04-02 22:26:44  \n",
       "108048              1 2022-04-01 15:38:50  \n",
       "108049              2 2022-04-03 14:36:45  \n",
       "108050              3 2022-04-01 15:41:36  "
      ]
     },
     "execution_count": 79,
     "metadata": {},
     "output_type": "execute_result"
    }
   ],
   "source": [
    "comments.tail()"
   ]
  },
  {
   "cell_type": "code",
   "execution_count": 80,
   "metadata": {},
   "outputs": [],
   "source": [
    "# New Column for just date\n",
    "year_month_day_format = '%Y-%m-%d'\n",
    "posts['created_date']= posts['created'].apply(lambda x: x.strftime(year_month_day_format))\n",
    "comments['created_date']= comments['comment_time'].apply(lambda x: x.strftime(year_month_day_format))"
   ]
  },
  {
   "attachments": {},
   "cell_type": "markdown",
   "metadata": {},
   "source": [
    "#### Merging Posts and Comments"
   ]
  },
  {
   "cell_type": "code",
   "execution_count": 81,
   "metadata": {},
   "outputs": [
    {
     "name": "stdout",
     "output_type": "stream",
     "text": [
      "<class 'pandas.core.frame.DataFrame'>\n",
      "Int64Index: 108051 entries, 0 to 108050\n",
      "Data columns (total 12 columns):\n",
      " #   Column             Non-Null Count   Dtype         \n",
      "---  ------             --------------   -----         \n",
      " 0   comment_id         108051 non-null  object        \n",
      " 1   comment_parent_id  108051 non-null  object        \n",
      " 2   comment_body       108051 non-null  object        \n",
      " 3   comment_link_id    108051 non-null  object        \n",
      " 4   comment_score      108051 non-null  int64         \n",
      " 5   comment_time       108051 non-null  datetime64[ns]\n",
      " 6   created_date       108051 non-null  object        \n",
      " 7   title              103731 non-null  object        \n",
      " 8   url                103731 non-null  object        \n",
      " 9   id                 103731 non-null  object        \n",
      " 10  comms_num          103731 non-null  float64       \n",
      " 11  created            103731 non-null  datetime64[ns]\n",
      "dtypes: datetime64[ns](2), float64(1), int64(1), object(8)\n",
      "memory usage: 10.7+ MB\n"
     ]
    }
   ],
   "source": [
    "Posts_Comments = comments.merge(posts, how = 'left', on = 'created_date')\n",
    "Posts_Comments.info()"
   ]
  },
  {
   "attachments": {},
   "cell_type": "markdown",
   "metadata": {},
   "source": [
    "About 5k comments were posted on the weekend. Since that's a relatively small subset covering a time where stocks aren't traded, we can drop them."
   ]
  },
  {
   "cell_type": "code",
   "execution_count": 82,
   "metadata": {},
   "outputs": [
    {
     "data": {
      "text/html": [
       "<div>\n",
       "<style scoped>\n",
       "    .dataframe tbody tr th:only-of-type {\n",
       "        vertical-align: middle;\n",
       "    }\n",
       "\n",
       "    .dataframe tbody tr th {\n",
       "        vertical-align: top;\n",
       "    }\n",
       "\n",
       "    .dataframe thead th {\n",
       "        text-align: right;\n",
       "    }\n",
       "</style>\n",
       "<table border=\"1\" class=\"dataframe\">\n",
       "  <thead>\n",
       "    <tr style=\"text-align: right;\">\n",
       "      <th></th>\n",
       "      <th>comment_id</th>\n",
       "      <th>comment_parent_id</th>\n",
       "      <th>comment_body</th>\n",
       "      <th>comment_link_id</th>\n",
       "      <th>comment_score</th>\n",
       "      <th>comment_time</th>\n",
       "      <th>created_date</th>\n",
       "      <th>title</th>\n",
       "      <th>url</th>\n",
       "      <th>id</th>\n",
       "      <th>comms_num</th>\n",
       "      <th>created</th>\n",
       "    </tr>\n",
       "  </thead>\n",
       "  <tbody>\n",
       "    <tr>\n",
       "      <th>0</th>\n",
       "      <td>je9wqz5</td>\n",
       "      <td>t3_126hopo</td>\n",
       "      <td>Michael Burry saying he was wrong to say sell ...</td>\n",
       "      <td>t3_126hopo</td>\n",
       "      <td>8</td>\n",
       "      <td>2023-03-30 14:05:20</td>\n",
       "      <td>2023-03-30</td>\n",
       "      <td>r/Stocks Daily Discussion &amp; Options Trading Th...</td>\n",
       "      <td>https://www.reddit.com/r/stocks/comments/126ho...</td>\n",
       "      <td>126hopo</td>\n",
       "      <td>91.0</td>\n",
       "      <td>2023-03-30 09:30:12</td>\n",
       "    </tr>\n",
       "    <tr>\n",
       "      <th>1</th>\n",
       "      <td>je9kvzm</td>\n",
       "      <td>t3_126hopo</td>\n",
       "      <td>Anyone have stocks they bought between Oct 202...</td>\n",
       "      <td>t3_126hopo</td>\n",
       "      <td>9</td>\n",
       "      <td>2023-03-30 12:32:24</td>\n",
       "      <td>2023-03-30</td>\n",
       "      <td>r/Stocks Daily Discussion &amp; Options Trading Th...</td>\n",
       "      <td>https://www.reddit.com/r/stocks/comments/126ho...</td>\n",
       "      <td>126hopo</td>\n",
       "      <td>91.0</td>\n",
       "      <td>2023-03-30 09:30:12</td>\n",
       "    </tr>\n",
       "    <tr>\n",
       "      <th>2</th>\n",
       "      <td>je9qore</td>\n",
       "      <td>t3_126hopo</td>\n",
       "      <td>What if the FRC July 2024 40c is this year's T...</td>\n",
       "      <td>t3_126hopo</td>\n",
       "      <td>3</td>\n",
       "      <td>2023-03-30 13:20:12</td>\n",
       "      <td>2023-03-30</td>\n",
       "      <td>r/Stocks Daily Discussion &amp; Options Trading Th...</td>\n",
       "      <td>https://www.reddit.com/r/stocks/comments/126ho...</td>\n",
       "      <td>126hopo</td>\n",
       "      <td>91.0</td>\n",
       "      <td>2023-03-30 09:30:12</td>\n",
       "    </tr>\n",
       "    <tr>\n",
       "      <th>3</th>\n",
       "      <td>je9lh7w</td>\n",
       "      <td>t3_126hopo</td>\n",
       "      <td>Morgan Stanley downgrades Charles Schwab to Eq...</td>\n",
       "      <td>t3_126hopo</td>\n",
       "      <td>5</td>\n",
       "      <td>2023-03-30 12:37:33</td>\n",
       "      <td>2023-03-30</td>\n",
       "      <td>r/Stocks Daily Discussion &amp; Options Trading Th...</td>\n",
       "      <td>https://www.reddit.com/r/stocks/comments/126ho...</td>\n",
       "      <td>126hopo</td>\n",
       "      <td>91.0</td>\n",
       "      <td>2023-03-30 09:30:12</td>\n",
       "    </tr>\n",
       "    <tr>\n",
       "      <th>4</th>\n",
       "      <td>je9w81a</td>\n",
       "      <td>t3_126hopo</td>\n",
       "      <td>Nasdaq confirmed in a new bull market, everyon...</td>\n",
       "      <td>t3_126hopo</td>\n",
       "      <td>5</td>\n",
       "      <td>2023-03-30 14:01:34</td>\n",
       "      <td>2023-03-30</td>\n",
       "      <td>r/Stocks Daily Discussion &amp; Options Trading Th...</td>\n",
       "      <td>https://www.reddit.com/r/stocks/comments/126ho...</td>\n",
       "      <td>126hopo</td>\n",
       "      <td>91.0</td>\n",
       "      <td>2023-03-30 09:30:12</td>\n",
       "    </tr>\n",
       "  </tbody>\n",
       "</table>\n",
       "</div>"
      ],
      "text/plain": [
       "  comment_id comment_parent_id  \\\n",
       "0    je9wqz5        t3_126hopo   \n",
       "1    je9kvzm        t3_126hopo   \n",
       "2    je9qore        t3_126hopo   \n",
       "3    je9lh7w        t3_126hopo   \n",
       "4    je9w81a        t3_126hopo   \n",
       "\n",
       "                                        comment_body comment_link_id  \\\n",
       "0  Michael Burry saying he was wrong to say sell ...      t3_126hopo   \n",
       "1  Anyone have stocks they bought between Oct 202...      t3_126hopo   \n",
       "2  What if the FRC July 2024 40c is this year's T...      t3_126hopo   \n",
       "3  Morgan Stanley downgrades Charles Schwab to Eq...      t3_126hopo   \n",
       "4  Nasdaq confirmed in a new bull market, everyon...      t3_126hopo   \n",
       "\n",
       "   comment_score        comment_time created_date  \\\n",
       "0              8 2023-03-30 14:05:20   2023-03-30   \n",
       "1              9 2023-03-30 12:32:24   2023-03-30   \n",
       "2              3 2023-03-30 13:20:12   2023-03-30   \n",
       "3              5 2023-03-30 12:37:33   2023-03-30   \n",
       "4              5 2023-03-30 14:01:34   2023-03-30   \n",
       "\n",
       "                                               title  \\\n",
       "0  r/Stocks Daily Discussion & Options Trading Th...   \n",
       "1  r/Stocks Daily Discussion & Options Trading Th...   \n",
       "2  r/Stocks Daily Discussion & Options Trading Th...   \n",
       "3  r/Stocks Daily Discussion & Options Trading Th...   \n",
       "4  r/Stocks Daily Discussion & Options Trading Th...   \n",
       "\n",
       "                                                 url       id  comms_num  \\\n",
       "0  https://www.reddit.com/r/stocks/comments/126ho...  126hopo       91.0   \n",
       "1  https://www.reddit.com/r/stocks/comments/126ho...  126hopo       91.0   \n",
       "2  https://www.reddit.com/r/stocks/comments/126ho...  126hopo       91.0   \n",
       "3  https://www.reddit.com/r/stocks/comments/126ho...  126hopo       91.0   \n",
       "4  https://www.reddit.com/r/stocks/comments/126ho...  126hopo       91.0   \n",
       "\n",
       "              created  \n",
       "0 2023-03-30 09:30:12  \n",
       "1 2023-03-30 09:30:12  \n",
       "2 2023-03-30 09:30:12  \n",
       "3 2023-03-30 09:30:12  \n",
       "4 2023-03-30 09:30:12  "
      ]
     },
     "execution_count": 82,
     "metadata": {},
     "output_type": "execute_result"
    }
   ],
   "source": [
    "Posts_Comments.dropna(subset = ['created'], axis = 0, inplace = True)\n",
    "Posts_Comments.head()"
   ]
  },
  {
   "attachments": {},
   "cell_type": "markdown",
   "metadata": {},
   "source": [
    "Let's now drop more columns that we do not need or are redundant"
   ]
  },
  {
   "cell_type": "code",
   "execution_count": 83,
   "metadata": {},
   "outputs": [],
   "source": [
    "Posts_Comments.drop(columns = ['title','url','comment_id','comment_parent_id'], inplace = True)"
   ]
  },
  {
   "cell_type": "code",
   "execution_count": 84,
   "metadata": {},
   "outputs": [
    {
     "name": "stdout",
     "output_type": "stream",
     "text": [
      "<class 'pandas.core.frame.DataFrame'>\n",
      "Int64Index: 103731 entries, 0 to 108050\n",
      "Data columns (total 8 columns):\n",
      " #   Column           Non-Null Count   Dtype         \n",
      "---  ------           --------------   -----         \n",
      " 0   comment_body     103731 non-null  object        \n",
      " 1   comment_link_id  103731 non-null  object        \n",
      " 2   comment_score    103731 non-null  int64         \n",
      " 3   comment_time     103731 non-null  datetime64[ns]\n",
      " 4   created_date     103731 non-null  object        \n",
      " 5   id               103731 non-null  object        \n",
      " 6   comms_num        103731 non-null  float64       \n",
      " 7   created          103731 non-null  datetime64[ns]\n",
      "dtypes: datetime64[ns](2), float64(1), int64(1), object(4)\n",
      "memory usage: 7.1+ MB\n"
     ]
    }
   ],
   "source": [
    "Posts_Comments.info()"
   ]
  },
  {
   "attachments": {},
   "cell_type": "markdown",
   "metadata": {},
   "source": [
    "Visualizing Distribution of Comments by Date"
   ]
  },
  {
   "cell_type": "code",
   "execution_count": 85,
   "metadata": {},
   "outputs": [
    {
     "data": {
      "text/plain": [
       "Text(0.5, 1.0, 'Distribution of comments by day')"
      ]
     },
     "execution_count": 85,
     "metadata": {},
     "output_type": "execute_result"
    },
    {
     "data": {
      "image/png": "[encoded data removed]",
      "text/plain": [
       "<Figure size 640x480 with 1 Axes>"
      ]
     },
     "metadata": {},
     "output_type": "display_data"
    }
   ],
   "source": [
    "plt.hist(Posts_Comments['created'], bins=24, weights = Posts_Comments['comms_num'])\n",
    "plt.xlabel('Date created')\n",
    "plt.ylabel('Number of comments')\n",
    "plt.title('Distribution of comments by day')"
   ]
  },
  {
   "attachments": {},
   "cell_type": "markdown",
   "metadata": {},
   "source": [
    "S+P 500 Trend Data"
   ]
  },
  {
   "cell_type": "code",
   "execution_count": 86,
   "metadata": {},
   "outputs": [
    {
     "data": {
      "image/png": "[encoded data removed]",
      "text/plain": [
       "<Figure size 640x480 with 1 Axes>"
      ]
     },
     "metadata": {},
     "output_type": "display_data"
    }
   ],
   "source": [
    "plt.plot(market_data['Close'])\n",
    "\n",
    "# Set the x-axis label\n",
    "plt.xlabel('Date')\n",
    "\n",
    "# Set the y-axis label\n",
    "plt.ylabel('S&P 500 Index')\n",
    "\n",
    "# Set the plot title\n",
    "plt.title('Daily S&P 500 Index')\n",
    "\n",
    "# Display the plot\n",
    "plt.show()"
   ]
  },
  {
   "cell_type": "code",
   "execution_count": 87,
   "metadata": {},
   "outputs": [],
   "source": [
    "# Fixing created_date column\n",
    "Posts_Comments['date'] = pd.to_datetime(Posts_Comments['created_date'])\n",
    "Posts_Comments.drop(['created_date'], axis = 1, inplace = True)"
   ]
  },
  {
   "cell_type": "code",
   "execution_count": 88,
   "metadata": {},
   "outputs": [
    {
     "data": {
      "text/html": [
       "<div>\n",
       "<style scoped>\n",
       "    .dataframe tbody tr th:only-of-type {\n",
       "        vertical-align: middle;\n",
       "    }\n",
       "\n",
       "    .dataframe tbody tr th {\n",
       "        vertical-align: top;\n",
       "    }\n",
       "\n",
       "    .dataframe thead th {\n",
       "        text-align: right;\n",
       "    }\n",
       "</style>\n",
       "<table border=\"1\" class=\"dataframe\">\n",
       "  <thead>\n",
       "    <tr style=\"text-align: right;\">\n",
       "      <th></th>\n",
       "      <th>comment_body</th>\n",
       "      <th>comment_link_id</th>\n",
       "      <th>comment_score</th>\n",
       "      <th>comment_time</th>\n",
       "      <th>id</th>\n",
       "      <th>comms_num</th>\n",
       "      <th>created</th>\n",
       "      <th>date</th>\n",
       "    </tr>\n",
       "  </thead>\n",
       "  <tbody>\n",
       "    <tr>\n",
       "      <th>0</th>\n",
       "      <td>Michael Burry saying he was wrong to say sell ...</td>\n",
       "      <td>t3_126hopo</td>\n",
       "      <td>8</td>\n",
       "      <td>2023-03-30 14:05:20</td>\n",
       "      <td>126hopo</td>\n",
       "      <td>91.0</td>\n",
       "      <td>2023-03-30 09:30:12</td>\n",
       "      <td>2023-03-30</td>\n",
       "    </tr>\n",
       "    <tr>\n",
       "      <th>1</th>\n",
       "      <td>Anyone have stocks they bought between Oct 202...</td>\n",
       "      <td>t3_126hopo</td>\n",
       "      <td>9</td>\n",
       "      <td>2023-03-30 12:32:24</td>\n",
       "      <td>126hopo</td>\n",
       "      <td>91.0</td>\n",
       "      <td>2023-03-30 09:30:12</td>\n",
       "      <td>2023-03-30</td>\n",
       "    </tr>\n",
       "    <tr>\n",
       "      <th>2</th>\n",
       "      <td>What if the FRC July 2024 40c is this year's T...</td>\n",
       "      <td>t3_126hopo</td>\n",
       "      <td>3</td>\n",
       "      <td>2023-03-30 13:20:12</td>\n",
       "      <td>126hopo</td>\n",
       "      <td>91.0</td>\n",
       "      <td>2023-03-30 09:30:12</td>\n",
       "      <td>2023-03-30</td>\n",
       "    </tr>\n",
       "    <tr>\n",
       "      <th>3</th>\n",
       "      <td>Morgan Stanley downgrades Charles Schwab to Eq...</td>\n",
       "      <td>t3_126hopo</td>\n",
       "      <td>5</td>\n",
       "      <td>2023-03-30 12:37:33</td>\n",
       "      <td>126hopo</td>\n",
       "      <td>91.0</td>\n",
       "      <td>2023-03-30 09:30:12</td>\n",
       "      <td>2023-03-30</td>\n",
       "    </tr>\n",
       "    <tr>\n",
       "      <th>4</th>\n",
       "      <td>Nasdaq confirmed in a new bull market, everyon...</td>\n",
       "      <td>t3_126hopo</td>\n",
       "      <td>5</td>\n",
       "      <td>2023-03-30 14:01:34</td>\n",
       "      <td>126hopo</td>\n",
       "      <td>91.0</td>\n",
       "      <td>2023-03-30 09:30:12</td>\n",
       "      <td>2023-03-30</td>\n",
       "    </tr>\n",
       "  </tbody>\n",
       "</table>\n",
       "</div>"
      ],
      "text/plain": [
       "                                        comment_body comment_link_id  \\\n",
       "0  Michael Burry saying he was wrong to say sell ...      t3_126hopo   \n",
       "1  Anyone have stocks they bought between Oct 202...      t3_126hopo   \n",
       "2  What if the FRC July 2024 40c is this year's T...      t3_126hopo   \n",
       "3  Morgan Stanley downgrades Charles Schwab to Eq...      t3_126hopo   \n",
       "4  Nasdaq confirmed in a new bull market, everyon...      t3_126hopo   \n",
       "\n",
       "   comment_score        comment_time       id  comms_num             created  \\\n",
       "0              8 2023-03-30 14:05:20  126hopo       91.0 2023-03-30 09:30:12   \n",
       "1              9 2023-03-30 12:32:24  126hopo       91.0 2023-03-30 09:30:12   \n",
       "2              3 2023-03-30 13:20:12  126hopo       91.0 2023-03-30 09:30:12   \n",
       "3              5 2023-03-30 12:37:33  126hopo       91.0 2023-03-30 09:30:12   \n",
       "4              5 2023-03-30 14:01:34  126hopo       91.0 2023-03-30 09:30:12   \n",
       "\n",
       "        date  \n",
       "0 2023-03-30  \n",
       "1 2023-03-30  \n",
       "2 2023-03-30  \n",
       "3 2023-03-30  \n",
       "4 2023-03-30  "
      ]
     },
     "execution_count": 88,
     "metadata": {},
     "output_type": "execute_result"
    }
   ],
   "source": [
    "Posts_Comments.head()"
   ]
  },
  {
   "cell_type": "code",
   "execution_count": 89,
   "metadata": {},
   "outputs": [
    {
     "data": {
      "text/html": [
       "<div>\n",
       "<style scoped>\n",
       "    .dataframe tbody tr th:only-of-type {\n",
       "        vertical-align: middle;\n",
       "    }\n",
       "\n",
       "    .dataframe tbody tr th {\n",
       "        vertical-align: top;\n",
       "    }\n",
       "\n",
       "    .dataframe thead th {\n",
       "        text-align: right;\n",
       "    }\n",
       "</style>\n",
       "<table border=\"1\" class=\"dataframe\">\n",
       "  <thead>\n",
       "    <tr style=\"text-align: right;\">\n",
       "      <th></th>\n",
       "      <th>comment_body</th>\n",
       "      <th>comment_link_id</th>\n",
       "      <th>comment_score</th>\n",
       "      <th>comment_time</th>\n",
       "      <th>id</th>\n",
       "      <th>comms_num</th>\n",
       "      <th>created</th>\n",
       "      <th>date</th>\n",
       "      <th>Date_Created</th>\n",
       "    </tr>\n",
       "  </thead>\n",
       "  <tbody>\n",
       "    <tr>\n",
       "      <th>0</th>\n",
       "      <td>Michael Burry saying he was wrong to say sell ...</td>\n",
       "      <td>t3_126hopo</td>\n",
       "      <td>8</td>\n",
       "      <td>2023-03-30 14:05:20</td>\n",
       "      <td>126hopo</td>\n",
       "      <td>91.0</td>\n",
       "      <td>2023-03-30 09:30:12</td>\n",
       "      <td>2023-03-30</td>\n",
       "      <td>2023-03-30</td>\n",
       "    </tr>\n",
       "    <tr>\n",
       "      <th>1</th>\n",
       "      <td>Anyone have stocks they bought between Oct 202...</td>\n",
       "      <td>t3_126hopo</td>\n",
       "      <td>9</td>\n",
       "      <td>2023-03-30 12:32:24</td>\n",
       "      <td>126hopo</td>\n",
       "      <td>91.0</td>\n",
       "      <td>2023-03-30 09:30:12</td>\n",
       "      <td>2023-03-30</td>\n",
       "      <td>2023-03-30</td>\n",
       "    </tr>\n",
       "    <tr>\n",
       "      <th>2</th>\n",
       "      <td>What if the FRC July 2024 40c is this year's T...</td>\n",
       "      <td>t3_126hopo</td>\n",
       "      <td>3</td>\n",
       "      <td>2023-03-30 13:20:12</td>\n",
       "      <td>126hopo</td>\n",
       "      <td>91.0</td>\n",
       "      <td>2023-03-30 09:30:12</td>\n",
       "      <td>2023-03-30</td>\n",
       "      <td>2023-03-30</td>\n",
       "    </tr>\n",
       "    <tr>\n",
       "      <th>3</th>\n",
       "      <td>Morgan Stanley downgrades Charles Schwab to Eq...</td>\n",
       "      <td>t3_126hopo</td>\n",
       "      <td>5</td>\n",
       "      <td>2023-03-30 12:37:33</td>\n",
       "      <td>126hopo</td>\n",
       "      <td>91.0</td>\n",
       "      <td>2023-03-30 09:30:12</td>\n",
       "      <td>2023-03-30</td>\n",
       "      <td>2023-03-30</td>\n",
       "    </tr>\n",
       "    <tr>\n",
       "      <th>4</th>\n",
       "      <td>Nasdaq confirmed in a new bull market, everyon...</td>\n",
       "      <td>t3_126hopo</td>\n",
       "      <td>5</td>\n",
       "      <td>2023-03-30 14:01:34</td>\n",
       "      <td>126hopo</td>\n",
       "      <td>91.0</td>\n",
       "      <td>2023-03-30 09:30:12</td>\n",
       "      <td>2023-03-30</td>\n",
       "      <td>2023-03-30</td>\n",
       "    </tr>\n",
       "  </tbody>\n",
       "</table>\n",
       "</div>"
      ],
      "text/plain": [
       "                                        comment_body comment_link_id  \\\n",
       "0  Michael Burry saying he was wrong to say sell ...      t3_126hopo   \n",
       "1  Anyone have stocks they bought between Oct 202...      t3_126hopo   \n",
       "2  What if the FRC July 2024 40c is this year's T...      t3_126hopo   \n",
       "3  Morgan Stanley downgrades Charles Schwab to Eq...      t3_126hopo   \n",
       "4  Nasdaq confirmed in a new bull market, everyon...      t3_126hopo   \n",
       "\n",
       "   comment_score        comment_time       id  comms_num             created  \\\n",
       "0              8 2023-03-30 14:05:20  126hopo       91.0 2023-03-30 09:30:12   \n",
       "1              9 2023-03-30 12:32:24  126hopo       91.0 2023-03-30 09:30:12   \n",
       "2              3 2023-03-30 13:20:12  126hopo       91.0 2023-03-30 09:30:12   \n",
       "3              5 2023-03-30 12:37:33  126hopo       91.0 2023-03-30 09:30:12   \n",
       "4              5 2023-03-30 14:01:34  126hopo       91.0 2023-03-30 09:30:12   \n",
       "\n",
       "        date Date_Created  \n",
       "0 2023-03-30   2023-03-30  \n",
       "1 2023-03-30   2023-03-30  \n",
       "2 2023-03-30   2023-03-30  \n",
       "3 2023-03-30   2023-03-30  \n",
       "4 2023-03-30   2023-03-30  "
      ]
     },
     "execution_count": 89,
     "metadata": {},
     "output_type": "execute_result"
    }
   ],
   "source": [
    "# Fixing Created column to just show date\n",
    "Posts_Comments['Date_Created'] = Posts_Comments['created'].dt.date\n",
    "Posts_Comments.head()"
   ]
  },
  {
   "attachments": {},
   "cell_type": "markdown",
   "metadata": {},
   "source": [
    "Create % Change Column for Categorization"
   ]
  },
  {
   "cell_type": "code",
   "execution_count": 90,
   "metadata": {},
   "outputs": [],
   "source": [
    "market_data.reset_index(inplace = True)\n",
    "market_data['Date'] = market_data['Date'].dt.date\n",
    "market_data['% Change'] = (market_data[\"Close\"] - market_data[\"Open\"]) / market_data[\"Open\"] * 100"
   ]
  },
  {
   "cell_type": "code",
   "execution_count": 91,
   "metadata": {},
   "outputs": [
    {
     "data": {
      "text/html": [
       "<div>\n",
       "<style scoped>\n",
       "    .dataframe tbody tr th:only-of-type {\n",
       "        vertical-align: middle;\n",
       "    }\n",
       "\n",
       "    .dataframe tbody tr th {\n",
       "        vertical-align: top;\n",
       "    }\n",
       "\n",
       "    .dataframe thead th {\n",
       "        text-align: right;\n",
       "    }\n",
       "</style>\n",
       "<table border=\"1\" class=\"dataframe\">\n",
       "  <thead>\n",
       "    <tr style=\"text-align: right;\">\n",
       "      <th></th>\n",
       "      <th>Date</th>\n",
       "      <th>Open</th>\n",
       "      <th>Close</th>\n",
       "      <th>% Change</th>\n",
       "    </tr>\n",
       "  </thead>\n",
       "  <tbody>\n",
       "    <tr>\n",
       "      <th>0</th>\n",
       "      <td>2021-04-01</td>\n",
       "      <td>3992.780029</td>\n",
       "      <td>4019.870117</td>\n",
       "      <td>0.678477</td>\n",
       "    </tr>\n",
       "    <tr>\n",
       "      <th>1</th>\n",
       "      <td>2021-04-05</td>\n",
       "      <td>4034.439941</td>\n",
       "      <td>4077.909912</td>\n",
       "      <td>1.077472</td>\n",
       "    </tr>\n",
       "    <tr>\n",
       "      <th>2</th>\n",
       "      <td>2021-04-06</td>\n",
       "      <td>4075.570068</td>\n",
       "      <td>4073.939941</td>\n",
       "      <td>-0.039998</td>\n",
       "    </tr>\n",
       "    <tr>\n",
       "      <th>3</th>\n",
       "      <td>2021-04-07</td>\n",
       "      <td>4074.290039</td>\n",
       "      <td>4079.949951</td>\n",
       "      <td>0.138918</td>\n",
       "    </tr>\n",
       "    <tr>\n",
       "      <th>4</th>\n",
       "      <td>2021-04-08</td>\n",
       "      <td>4089.949951</td>\n",
       "      <td>4097.169922</td>\n",
       "      <td>0.176530</td>\n",
       "    </tr>\n",
       "  </tbody>\n",
       "</table>\n",
       "</div>"
      ],
      "text/plain": [
       "         Date         Open        Close  % Change\n",
       "0  2021-04-01  3992.780029  4019.870117  0.678477\n",
       "1  2021-04-05  4034.439941  4077.909912  1.077472\n",
       "2  2021-04-06  4075.570068  4073.939941 -0.039998\n",
       "3  2021-04-07  4074.290039  4079.949951  0.138918\n",
       "4  2021-04-08  4089.949951  4097.169922  0.176530"
      ]
     },
     "execution_count": 91,
     "metadata": {},
     "output_type": "execute_result"
    }
   ],
   "source": [
    "market_data.head()"
   ]
  },
  {
   "attachments": {},
   "cell_type": "markdown",
   "metadata": {},
   "source": [
    "Categorize whether Market was Up or Down"
   ]
  },
  {
   "cell_type": "code",
   "execution_count": 92,
   "metadata": {},
   "outputs": [],
   "source": [
    "market_data['Up_Down'] = market_data['% Change'].apply(lambda x: 1 if x > 0 else 0)"
   ]
  },
  {
   "cell_type": "code",
   "execution_count": 93,
   "metadata": {},
   "outputs": [
    {
     "data": {
      "text/html": [
       "<div>\n",
       "<style scoped>\n",
       "    .dataframe tbody tr th:only-of-type {\n",
       "        vertical-align: middle;\n",
       "    }\n",
       "\n",
       "    .dataframe tbody tr th {\n",
       "        vertical-align: top;\n",
       "    }\n",
       "\n",
       "    .dataframe thead th {\n",
       "        text-align: right;\n",
       "    }\n",
       "</style>\n",
       "<table border=\"1\" class=\"dataframe\">\n",
       "  <thead>\n",
       "    <tr style=\"text-align: right;\">\n",
       "      <th></th>\n",
       "      <th>Date</th>\n",
       "      <th>Open</th>\n",
       "      <th>Close</th>\n",
       "      <th>% Change</th>\n",
       "      <th>Up_Down</th>\n",
       "    </tr>\n",
       "  </thead>\n",
       "  <tbody>\n",
       "    <tr>\n",
       "      <th>0</th>\n",
       "      <td>2021-04-01</td>\n",
       "      <td>3992.780029</td>\n",
       "      <td>4019.870117</td>\n",
       "      <td>0.678477</td>\n",
       "      <td>1</td>\n",
       "    </tr>\n",
       "    <tr>\n",
       "      <th>1</th>\n",
       "      <td>2021-04-05</td>\n",
       "      <td>4034.439941</td>\n",
       "      <td>4077.909912</td>\n",
       "      <td>1.077472</td>\n",
       "      <td>1</td>\n",
       "    </tr>\n",
       "    <tr>\n",
       "      <th>2</th>\n",
       "      <td>2021-04-06</td>\n",
       "      <td>4075.570068</td>\n",
       "      <td>4073.939941</td>\n",
       "      <td>-0.039998</td>\n",
       "      <td>0</td>\n",
       "    </tr>\n",
       "    <tr>\n",
       "      <th>3</th>\n",
       "      <td>2021-04-07</td>\n",
       "      <td>4074.290039</td>\n",
       "      <td>4079.949951</td>\n",
       "      <td>0.138918</td>\n",
       "      <td>1</td>\n",
       "    </tr>\n",
       "    <tr>\n",
       "      <th>4</th>\n",
       "      <td>2021-04-08</td>\n",
       "      <td>4089.949951</td>\n",
       "      <td>4097.169922</td>\n",
       "      <td>0.176530</td>\n",
       "      <td>1</td>\n",
       "    </tr>\n",
       "    <tr>\n",
       "      <th>...</th>\n",
       "      <td>...</td>\n",
       "      <td>...</td>\n",
       "      <td>...</td>\n",
       "      <td>...</td>\n",
       "      <td>...</td>\n",
       "    </tr>\n",
       "    <tr>\n",
       "      <th>499</th>\n",
       "      <td>2023-03-27</td>\n",
       "      <td>3982.929932</td>\n",
       "      <td>3977.530029</td>\n",
       "      <td>-0.135576</td>\n",
       "      <td>0</td>\n",
       "    </tr>\n",
       "    <tr>\n",
       "      <th>500</th>\n",
       "      <td>2023-03-28</td>\n",
       "      <td>3974.129883</td>\n",
       "      <td>3971.270020</td>\n",
       "      <td>-0.071962</td>\n",
       "      <td>0</td>\n",
       "    </tr>\n",
       "    <tr>\n",
       "      <th>501</th>\n",
       "      <td>2023-03-29</td>\n",
       "      <td>3999.530029</td>\n",
       "      <td>4027.810059</td>\n",
       "      <td>0.707084</td>\n",
       "      <td>1</td>\n",
       "    </tr>\n",
       "    <tr>\n",
       "      <th>502</th>\n",
       "      <td>2023-03-30</td>\n",
       "      <td>4046.739990</td>\n",
       "      <td>4050.830078</td>\n",
       "      <td>0.101071</td>\n",
       "      <td>1</td>\n",
       "    </tr>\n",
       "    <tr>\n",
       "      <th>503</th>\n",
       "      <td>2023-03-31</td>\n",
       "      <td>4056.179932</td>\n",
       "      <td>4109.310059</td>\n",
       "      <td>1.309856</td>\n",
       "      <td>1</td>\n",
       "    </tr>\n",
       "  </tbody>\n",
       "</table>\n",
       "<p>504 rows × 5 columns</p>\n",
       "</div>"
      ],
      "text/plain": [
       "           Date         Open        Close  % Change  Up_Down\n",
       "0    2021-04-01  3992.780029  4019.870117  0.678477        1\n",
       "1    2021-04-05  4034.439941  4077.909912  1.077472        1\n",
       "2    2021-04-06  4075.570068  4073.939941 -0.039998        0\n",
       "3    2021-04-07  4074.290039  4079.949951  0.138918        1\n",
       "4    2021-04-08  4089.949951  4097.169922  0.176530        1\n",
       "..          ...          ...          ...       ...      ...\n",
       "499  2023-03-27  3982.929932  3977.530029 -0.135576        0\n",
       "500  2023-03-28  3974.129883  3971.270020 -0.071962        0\n",
       "501  2023-03-29  3999.530029  4027.810059  0.707084        1\n",
       "502  2023-03-30  4046.739990  4050.830078  0.101071        1\n",
       "503  2023-03-31  4056.179932  4109.310059  1.309856        1\n",
       "\n",
       "[504 rows x 5 columns]"
      ]
     },
     "execution_count": 93,
     "metadata": {},
     "output_type": "execute_result"
    }
   ],
   "source": [
    "market_data"
   ]
  },
  {
   "attachments": {},
   "cell_type": "markdown",
   "metadata": {},
   "source": [
    "### Natural Language Processing"
   ]
  },
  {
   "attachments": {},
   "cell_type": "markdown",
   "metadata": {},
   "source": [
    "We just want the comment body, and a thing to identify it by. Let's use the comment_time column to do that. We will also keep the comment_score column to amplify sentiments if a post was up or down voted."
   ]
  },
  {
   "cell_type": "code",
   "execution_count": 94,
   "metadata": {},
   "outputs": [
    {
     "name": "stdout",
     "output_type": "stream",
     "text": [
      "<class 'pandas.core.frame.DataFrame'>\n",
      "RangeIndex: 103731 entries, 0 to 103730\n",
      "Data columns (total 3 columns):\n",
      " #   Column         Non-Null Count   Dtype \n",
      "---  ------         --------------   ----- \n",
      " 0   Date_Created   103731 non-null  object\n",
      " 1   comment_body   103731 non-null  object\n",
      " 2   comment_score  103731 non-null  int64 \n",
      "dtypes: int64(1), object(2)\n",
      "memory usage: 2.4+ MB\n"
     ]
    }
   ],
   "source": [
    "Comment_NLP = Posts_Comments[['comment_body','comment_score','Date_Created']].set_index('Date_Created')\n",
    "Comment_NLP.reset_index(inplace = True)\n",
    "Comment_NLP.info()"
   ]
  },
  {
   "attachments": {},
   "cell_type": "markdown",
   "metadata": {},
   "source": [
    "Cleaning Text"
   ]
  },
  {
   "cell_type": "code",
   "execution_count": 95,
   "metadata": {},
   "outputs": [],
   "source": [
    "# Get English Stopwords\n",
    "stop = set(stopwords.words('english'))\n",
    "# Add some of our own stopwords\n",
    "new_words = ['im','one','ive']\n",
    "stop.update(new_words)\n",
    "# Split comment for each individual words, make each word lowercase, remove non-alphabetic characters, remove stopwords\n",
    "Comment_NLP['comment_body'] = Comment_NLP['comment_body'].apply(lambda x: \" \".join(x.lower() for x in x.split())) # convert to lowercase\n",
    "Comment_NLP['comment_body'] = Comment_NLP['comment_body'].apply(lambda x: re.sub(r'http\\S+|[^a-zA-Z\\s]', '', x)) # Remove non-alphabetic characters\n",
    "Comment_NLP['comment_body'] = Comment_NLP['comment_body'].apply(lambda x: \" \".join(x for x in x.split() if x not in stop)) # remove stopwords"
   ]
  },
  {
   "cell_type": "code",
   "execution_count": 96,
   "metadata": {},
   "outputs": [
    {
     "data": {
      "text/html": [
       "<div>\n",
       "<style scoped>\n",
       "    .dataframe tbody tr th:only-of-type {\n",
       "        vertical-align: middle;\n",
       "    }\n",
       "\n",
       "    .dataframe tbody tr th {\n",
       "        vertical-align: top;\n",
       "    }\n",
       "\n",
       "    .dataframe thead th {\n",
       "        text-align: right;\n",
       "    }\n",
       "</style>\n",
       "<table border=\"1\" class=\"dataframe\">\n",
       "  <thead>\n",
       "    <tr style=\"text-align: right;\">\n",
       "      <th></th>\n",
       "      <th>Date_Created</th>\n",
       "      <th>comment_body</th>\n",
       "      <th>comment_score</th>\n",
       "    </tr>\n",
       "  </thead>\n",
       "  <tbody>\n",
       "    <tr>\n",
       "      <th>0</th>\n",
       "      <td>2023-03-30</td>\n",
       "      <td>michael burry saying wrong say sell lol</td>\n",
       "      <td>8</td>\n",
       "    </tr>\n",
       "    <tr>\n",
       "      <th>1</th>\n",
       "      <td>2023-03-30</td>\n",
       "      <td>anyone stocks bought oct march try discuss peo...</td>\n",
       "      <td>9</td>\n",
       "    </tr>\n",
       "    <tr>\n",
       "      <th>2</th>\n",
       "      <td>2023-03-30</td>\n",
       "      <td>frc july c years tsla c</td>\n",
       "      <td>3</td>\n",
       "    </tr>\n",
       "    <tr>\n",
       "      <th>3</th>\n",
       "      <td>2023-03-30</td>\n",
       "      <td>morgan stanley downgrades charles schwab equal...</td>\n",
       "      <td>5</td>\n",
       "    </tr>\n",
       "    <tr>\n",
       "      <th>4</th>\n",
       "      <td>2023-03-30</td>\n",
       "      <td>nasdaq confirmed new bull market everyone fomo</td>\n",
       "      <td>5</td>\n",
       "    </tr>\n",
       "  </tbody>\n",
       "</table>\n",
       "</div>"
      ],
      "text/plain": [
       "  Date_Created                                       comment_body  \\\n",
       "0   2023-03-30            michael burry saying wrong say sell lol   \n",
       "1   2023-03-30  anyone stocks bought oct march try discuss peo...   \n",
       "2   2023-03-30                            frc july c years tsla c   \n",
       "3   2023-03-30  morgan stanley downgrades charles schwab equal...   \n",
       "4   2023-03-30     nasdaq confirmed new bull market everyone fomo   \n",
       "\n",
       "   comment_score  \n",
       "0              8  \n",
       "1              9  \n",
       "2              3  \n",
       "3              5  \n",
       "4              5  "
      ]
     },
     "execution_count": 96,
     "metadata": {},
     "output_type": "execute_result"
    }
   ],
   "source": [
    "Comment_NLP.head()"
   ]
  },
  {
   "attachments": {},
   "cell_type": "markdown",
   "metadata": {},
   "source": [
    "### We will now use Vader's Sentiment Intensity Analyzer to get the sentiment of each comment"
   ]
  },
  {
   "cell_type": "code",
   "execution_count": 97,
   "metadata": {},
   "outputs": [],
   "source": [
    "sia = SentimentIntensityAnalyzer()\n",
    "Comment_NLP['scores'] = Comment_NLP['comment_body'].apply(lambda body: sia.polarity_scores(str(body)))"
   ]
  },
  {
   "cell_type": "code",
   "execution_count": 98,
   "metadata": {},
   "outputs": [],
   "source": [
    "# Making New Column for Compound Score of each Comment, dropping scores column\n",
    "Comment_NLP['compound']=Comment_NLP['scores'].apply(lambda score_dict:score_dict['compound'])\n",
    "Comment_NLP.drop(['scores'], axis = 1, inplace = True)"
   ]
  },
  {
   "cell_type": "code",
   "execution_count": 99,
   "metadata": {},
   "outputs": [
    {
     "data": {
      "text/html": [
       "<div>\n",
       "<style scoped>\n",
       "    .dataframe tbody tr th:only-of-type {\n",
       "        vertical-align: middle;\n",
       "    }\n",
       "\n",
       "    .dataframe tbody tr th {\n",
       "        vertical-align: top;\n",
       "    }\n",
       "\n",
       "    .dataframe thead th {\n",
       "        text-align: right;\n",
       "    }\n",
       "</style>\n",
       "<table border=\"1\" class=\"dataframe\">\n",
       "  <thead>\n",
       "    <tr style=\"text-align: right;\">\n",
       "      <th></th>\n",
       "      <th>Date_Created</th>\n",
       "      <th>comment_body</th>\n",
       "      <th>comment_score</th>\n",
       "      <th>compound</th>\n",
       "    </tr>\n",
       "  </thead>\n",
       "  <tbody>\n",
       "    <tr>\n",
       "      <th>0</th>\n",
       "      <td>2023-03-30</td>\n",
       "      <td>michael burry saying wrong say sell lol</td>\n",
       "      <td>8</td>\n",
       "      <td>-0.0772</td>\n",
       "    </tr>\n",
       "    <tr>\n",
       "      <th>1</th>\n",
       "      <td>2023-03-30</td>\n",
       "      <td>anyone stocks bought oct march try discuss peo...</td>\n",
       "      <td>9</td>\n",
       "      <td>0.3612</td>\n",
       "    </tr>\n",
       "    <tr>\n",
       "      <th>2</th>\n",
       "      <td>2023-03-30</td>\n",
       "      <td>frc july c years tsla c</td>\n",
       "      <td>3</td>\n",
       "      <td>0.0000</td>\n",
       "    </tr>\n",
       "    <tr>\n",
       "      <th>3</th>\n",
       "      <td>2023-03-30</td>\n",
       "      <td>morgan stanley downgrades charles schwab equal...</td>\n",
       "      <td>5</td>\n",
       "      <td>-0.5106</td>\n",
       "    </tr>\n",
       "    <tr>\n",
       "      <th>4</th>\n",
       "      <td>2023-03-30</td>\n",
       "      <td>nasdaq confirmed new bull market everyone fomo</td>\n",
       "      <td>5</td>\n",
       "      <td>0.0000</td>\n",
       "    </tr>\n",
       "    <tr>\n",
       "      <th>...</th>\n",
       "      <td>...</td>\n",
       "      <td>...</td>\n",
       "      <td>...</td>\n",
       "      <td>...</td>\n",
       "    </tr>\n",
       "    <tr>\n",
       "      <th>103726</th>\n",
       "      <td>2022-04-01</td>\n",
       "      <td>thing clear u understand u opened edgar page s...</td>\n",
       "      <td>-1</td>\n",
       "      <td>0.9118</td>\n",
       "    </tr>\n",
       "    <tr>\n",
       "      <th>103727</th>\n",
       "      <td>2022-04-01</td>\n",
       "      <td>thats problem dont care others long get ahead ...</td>\n",
       "      <td>0</td>\n",
       "      <td>-0.3459</td>\n",
       "    </tr>\n",
       "    <tr>\n",
       "      <th>103728</th>\n",
       "      <td>2022-04-01</td>\n",
       "      <td>thisll last response matter dont care</td>\n",
       "      <td>0</td>\n",
       "      <td>-0.3670</td>\n",
       "    </tr>\n",
       "    <tr>\n",
       "      <th>103729</th>\n",
       "      <td>2022-04-01</td>\n",
       "      <td>thats problem dont care good person</td>\n",
       "      <td>1</td>\n",
       "      <td>-0.7740</td>\n",
       "    </tr>\n",
       "    <tr>\n",
       "      <th>103730</th>\n",
       "      <td>2022-04-01</td>\n",
       "      <td>deleted</td>\n",
       "      <td>3</td>\n",
       "      <td>0.0000</td>\n",
       "    </tr>\n",
       "  </tbody>\n",
       "</table>\n",
       "<p>103731 rows × 4 columns</p>\n",
       "</div>"
      ],
      "text/plain": [
       "       Date_Created                                       comment_body  \\\n",
       "0        2023-03-30            michael burry saying wrong say sell lol   \n",
       "1        2023-03-30  anyone stocks bought oct march try discuss peo...   \n",
       "2        2023-03-30                            frc july c years tsla c   \n",
       "3        2023-03-30  morgan stanley downgrades charles schwab equal...   \n",
       "4        2023-03-30     nasdaq confirmed new bull market everyone fomo   \n",
       "...             ...                                                ...   \n",
       "103726   2022-04-01  thing clear u understand u opened edgar page s...   \n",
       "103727   2022-04-01  thats problem dont care others long get ahead ...   \n",
       "103728   2022-04-01              thisll last response matter dont care   \n",
       "103729   2022-04-01                thats problem dont care good person   \n",
       "103730   2022-04-01                                            deleted   \n",
       "\n",
       "        comment_score  compound  \n",
       "0                   8   -0.0772  \n",
       "1                   9    0.3612  \n",
       "2                   3    0.0000  \n",
       "3                   5   -0.5106  \n",
       "4                   5    0.0000  \n",
       "...               ...       ...  \n",
       "103726             -1    0.9118  \n",
       "103727              0   -0.3459  \n",
       "103728              0   -0.3670  \n",
       "103729              1   -0.7740  \n",
       "103730              3    0.0000  \n",
       "\n",
       "[103731 rows x 4 columns]"
      ]
     },
     "execution_count": 99,
     "metadata": {},
     "output_type": "execute_result"
    }
   ],
   "source": [
    "Comment_NLP"
   ]
  },
  {
   "attachments": {},
   "cell_type": "markdown",
   "metadata": {},
   "source": [
    "#### Aggregate Data by date, by average sentiment score"
   ]
  },
  {
   "cell_type": "code",
   "execution_count": 100,
   "metadata": {},
   "outputs": [],
   "source": [
    "agg_data = Comment_NLP.groupby('Date_Created').agg(avg_score=('compound', 'mean'), num_comments=('compound', 'count'))"
   ]
  },
  {
   "attachments": {},
   "cell_type": "markdown",
   "metadata": {},
   "source": [
    "Aggregated Data Visualization"
   ]
  },
  {
   "cell_type": "code",
   "execution_count": 101,
   "metadata": {},
   "outputs": [
    {
     "data": {
      "image/png": "[encoded data removed]",
      "text/plain": [
       "<Figure size 640x480 with 1 Axes>"
      ]
     },
     "metadata": {},
     "output_type": "display_data"
    }
   ],
   "source": [
    "plt.plot(agg_data['avg_score'])\n",
    "\n",
    "plt.xlabel('Date')\n",
    "\n",
    "plt.ylabel('Average Sentiment Score')\n",
    "\n",
    "plt.title('Sentiment Graph')\n",
    "\n",
    "plt.show()"
   ]
  },
  {
   "attachments": {},
   "cell_type": "markdown",
   "metadata": {},
   "source": [
    "#### Merge aggregated data with stock price information"
   ]
  },
  {
   "cell_type": "code",
   "execution_count": 102,
   "metadata": {},
   "outputs": [],
   "source": [
    "Sentiment_Stocks = agg_data.merge(market_data, left_on= 'Date_Created', right_on = 'Date')"
   ]
  },
  {
   "cell_type": "code",
   "execution_count": 103,
   "metadata": {},
   "outputs": [
    {
     "data": {
      "text/html": [
       "<div>\n",
       "<style scoped>\n",
       "    .dataframe tbody tr th:only-of-type {\n",
       "        vertical-align: middle;\n",
       "    }\n",
       "\n",
       "    .dataframe tbody tr th {\n",
       "        vertical-align: top;\n",
       "    }\n",
       "\n",
       "    .dataframe thead th {\n",
       "        text-align: right;\n",
       "    }\n",
       "</style>\n",
       "<table border=\"1\" class=\"dataframe\">\n",
       "  <thead>\n",
       "    <tr style=\"text-align: right;\">\n",
       "      <th></th>\n",
       "      <th>avg_score</th>\n",
       "      <th>num_comments</th>\n",
       "      <th>Open</th>\n",
       "      <th>Close</th>\n",
       "      <th>% Change</th>\n",
       "      <th>Up_Down</th>\n",
       "    </tr>\n",
       "    <tr>\n",
       "      <th>Date</th>\n",
       "      <th></th>\n",
       "      <th></th>\n",
       "      <th></th>\n",
       "      <th></th>\n",
       "      <th></th>\n",
       "      <th></th>\n",
       "    </tr>\n",
       "  </thead>\n",
       "  <tbody>\n",
       "    <tr>\n",
       "      <th>2022-04-01</th>\n",
       "      <td>0.139218</td>\n",
       "      <td>315</td>\n",
       "      <td>4540.319824</td>\n",
       "      <td>4545.859863</td>\n",
       "      <td>0.122019</td>\n",
       "      <td>1</td>\n",
       "    </tr>\n",
       "    <tr>\n",
       "      <th>2022-04-04</th>\n",
       "      <td>0.123465</td>\n",
       "      <td>314</td>\n",
       "      <td>4547.970215</td>\n",
       "      <td>4582.640137</td>\n",
       "      <td>0.762316</td>\n",
       "      <td>1</td>\n",
       "    </tr>\n",
       "    <tr>\n",
       "      <th>2022-04-05</th>\n",
       "      <td>0.144980</td>\n",
       "      <td>425</td>\n",
       "      <td>4572.450195</td>\n",
       "      <td>4525.120117</td>\n",
       "      <td>-1.035114</td>\n",
       "      <td>0</td>\n",
       "    </tr>\n",
       "    <tr>\n",
       "      <th>2022-04-06</th>\n",
       "      <td>0.088409</td>\n",
       "      <td>610</td>\n",
       "      <td>4494.169922</td>\n",
       "      <td>4481.149902</td>\n",
       "      <td>-0.289709</td>\n",
       "      <td>0</td>\n",
       "    </tr>\n",
       "    <tr>\n",
       "      <th>2022-04-07</th>\n",
       "      <td>0.149088</td>\n",
       "      <td>525</td>\n",
       "      <td>4474.649902</td>\n",
       "      <td>4500.209961</td>\n",
       "      <td>0.571219</td>\n",
       "      <td>1</td>\n",
       "    </tr>\n",
       "  </tbody>\n",
       "</table>\n",
       "</div>"
      ],
      "text/plain": [
       "            avg_score  num_comments         Open        Close  % Change  \\\n",
       "Date                                                                      \n",
       "2022-04-01   0.139218           315  4540.319824  4545.859863  0.122019   \n",
       "2022-04-04   0.123465           314  4547.970215  4582.640137  0.762316   \n",
       "2022-04-05   0.144980           425  4572.450195  4525.120117 -1.035114   \n",
       "2022-04-06   0.088409           610  4494.169922  4481.149902 -0.289709   \n",
       "2022-04-07   0.149088           525  4474.649902  4500.209961  0.571219   \n",
       "\n",
       "            Up_Down  \n",
       "Date                 \n",
       "2022-04-01        1  \n",
       "2022-04-04        1  \n",
       "2022-04-05        0  \n",
       "2022-04-06        0  \n",
       "2022-04-07        1  "
      ]
     },
     "execution_count": 103,
     "metadata": {},
     "output_type": "execute_result"
    }
   ],
   "source": [
    "Sentiment_Stocks.set_index('Date', inplace = True)\n",
    "Sentiment_Stocks.head()"
   ]
  },
  {
   "attachments": {},
   "cell_type": "markdown",
   "metadata": {},
   "source": [
    "Implement a lag of 1 day, drop first day"
   ]
  },
  {
   "cell_type": "code",
   "execution_count": 104,
   "metadata": {},
   "outputs": [],
   "source": [
    "Sentiment_Stocks['avg_score'] = Sentiment_Stocks['avg_score'].shift(1)\n",
    "Sentiment_Stocks.drop(pd.to_datetime('2022-04-01'), inplace = True)"
   ]
  },
  {
   "cell_type": "code",
   "execution_count": 105,
   "metadata": {},
   "outputs": [
    {
     "data": {
      "text/html": [
       "<div>\n",
       "<style scoped>\n",
       "    .dataframe tbody tr th:only-of-type {\n",
       "        vertical-align: middle;\n",
       "    }\n",
       "\n",
       "    .dataframe tbody tr th {\n",
       "        vertical-align: top;\n",
       "    }\n",
       "\n",
       "    .dataframe thead th {\n",
       "        text-align: right;\n",
       "    }\n",
       "</style>\n",
       "<table border=\"1\" class=\"dataframe\">\n",
       "  <thead>\n",
       "    <tr style=\"text-align: right;\">\n",
       "      <th></th>\n",
       "      <th>avg_score</th>\n",
       "      <th>num_comments</th>\n",
       "      <th>Open</th>\n",
       "      <th>Close</th>\n",
       "      <th>% Change</th>\n",
       "      <th>Up_Down</th>\n",
       "    </tr>\n",
       "    <tr>\n",
       "      <th>Date</th>\n",
       "      <th></th>\n",
       "      <th></th>\n",
       "      <th></th>\n",
       "      <th></th>\n",
       "      <th></th>\n",
       "      <th></th>\n",
       "    </tr>\n",
       "  </thead>\n",
       "  <tbody>\n",
       "    <tr>\n",
       "      <th>2022-04-04</th>\n",
       "      <td>0.139218</td>\n",
       "      <td>314</td>\n",
       "      <td>4547.970215</td>\n",
       "      <td>4582.640137</td>\n",
       "      <td>0.762316</td>\n",
       "      <td>1</td>\n",
       "    </tr>\n",
       "    <tr>\n",
       "      <th>2022-04-05</th>\n",
       "      <td>0.123465</td>\n",
       "      <td>425</td>\n",
       "      <td>4572.450195</td>\n",
       "      <td>4525.120117</td>\n",
       "      <td>-1.035114</td>\n",
       "      <td>0</td>\n",
       "    </tr>\n",
       "    <tr>\n",
       "      <th>2022-04-06</th>\n",
       "      <td>0.144980</td>\n",
       "      <td>610</td>\n",
       "      <td>4494.169922</td>\n",
       "      <td>4481.149902</td>\n",
       "      <td>-0.289709</td>\n",
       "      <td>0</td>\n",
       "    </tr>\n",
       "    <tr>\n",
       "      <th>2022-04-07</th>\n",
       "      <td>0.088409</td>\n",
       "      <td>525</td>\n",
       "      <td>4474.649902</td>\n",
       "      <td>4500.209961</td>\n",
       "      <td>0.571219</td>\n",
       "      <td>1</td>\n",
       "    </tr>\n",
       "    <tr>\n",
       "      <th>2022-04-22</th>\n",
       "      <td>0.149088</td>\n",
       "      <td>744</td>\n",
       "      <td>4385.830078</td>\n",
       "      <td>4271.779785</td>\n",
       "      <td>-2.600427</td>\n",
       "      <td>0</td>\n",
       "    </tr>\n",
       "    <tr>\n",
       "      <th>...</th>\n",
       "      <td>...</td>\n",
       "      <td>...</td>\n",
       "      <td>...</td>\n",
       "      <td>...</td>\n",
       "      <td>...</td>\n",
       "      <td>...</td>\n",
       "    </tr>\n",
       "    <tr>\n",
       "      <th>2023-03-24</th>\n",
       "      <td>0.155244</td>\n",
       "      <td>347</td>\n",
       "      <td>3939.209961</td>\n",
       "      <td>3970.989990</td>\n",
       "      <td>0.806761</td>\n",
       "      <td>1</td>\n",
       "    </tr>\n",
       "    <tr>\n",
       "      <th>2023-03-27</th>\n",
       "      <td>0.104146</td>\n",
       "      <td>222</td>\n",
       "      <td>3982.929932</td>\n",
       "      <td>3977.530029</td>\n",
       "      <td>-0.135576</td>\n",
       "      <td>0</td>\n",
       "    </tr>\n",
       "    <tr>\n",
       "      <th>2023-03-28</th>\n",
       "      <td>0.190727</td>\n",
       "      <td>193</td>\n",
       "      <td>3974.129883</td>\n",
       "      <td>3971.270020</td>\n",
       "      <td>-0.071962</td>\n",
       "      <td>0</td>\n",
       "    </tr>\n",
       "    <tr>\n",
       "      <th>2023-03-29</th>\n",
       "      <td>0.158374</td>\n",
       "      <td>313</td>\n",
       "      <td>3999.530029</td>\n",
       "      <td>4027.810059</td>\n",
       "      <td>0.707084</td>\n",
       "      <td>1</td>\n",
       "    </tr>\n",
       "    <tr>\n",
       "      <th>2023-03-30</th>\n",
       "      <td>0.075383</td>\n",
       "      <td>128</td>\n",
       "      <td>4046.739990</td>\n",
       "      <td>4050.830078</td>\n",
       "      <td>0.101071</td>\n",
       "      <td>1</td>\n",
       "    </tr>\n",
       "  </tbody>\n",
       "</table>\n",
       "<p>227 rows × 6 columns</p>\n",
       "</div>"
      ],
      "text/plain": [
       "            avg_score  num_comments         Open        Close  % Change  \\\n",
       "Date                                                                      \n",
       "2022-04-04   0.139218           314  4547.970215  4582.640137  0.762316   \n",
       "2022-04-05   0.123465           425  4572.450195  4525.120117 -1.035114   \n",
       "2022-04-06   0.144980           610  4494.169922  4481.149902 -0.289709   \n",
       "2022-04-07   0.088409           525  4474.649902  4500.209961  0.571219   \n",
       "2022-04-22   0.149088           744  4385.830078  4271.779785 -2.600427   \n",
       "...               ...           ...          ...          ...       ...   \n",
       "2023-03-24   0.155244           347  3939.209961  3970.989990  0.806761   \n",
       "2023-03-27   0.104146           222  3982.929932  3977.530029 -0.135576   \n",
       "2023-03-28   0.190727           193  3974.129883  3971.270020 -0.071962   \n",
       "2023-03-29   0.158374           313  3999.530029  4027.810059  0.707084   \n",
       "2023-03-30   0.075383           128  4046.739990  4050.830078  0.101071   \n",
       "\n",
       "            Up_Down  \n",
       "Date                 \n",
       "2022-04-04        1  \n",
       "2022-04-05        0  \n",
       "2022-04-06        0  \n",
       "2022-04-07        1  \n",
       "2022-04-22        0  \n",
       "...             ...  \n",
       "2023-03-24        1  \n",
       "2023-03-27        0  \n",
       "2023-03-28        0  \n",
       "2023-03-29        1  \n",
       "2023-03-30        1  \n",
       "\n",
       "[227 rows x 6 columns]"
      ]
     },
     "execution_count": 105,
     "metadata": {},
     "output_type": "execute_result"
    }
   ],
   "source": [
    "Sentiment_Stocks"
   ]
  },
  {
   "attachments": {},
   "cell_type": "markdown",
   "metadata": {},
   "source": [
    "Granger-Causality Test for correlation between Sentiment, % Change"
   ]
  },
  {
   "cell_type": "code",
   "execution_count": 106,
   "metadata": {},
   "outputs": [
    {
     "name": "stdout",
     "output_type": "stream",
     "text": [
      "\n",
      "Granger Causality\n",
      "number of lags (no zero) 1\n",
      "ssr based F test:         F=10.7521 , p=0.0012  , df_denom=223, df_num=1\n",
      "ssr based chi2 test:   chi2=10.8967 , p=0.0010  , df=1\n",
      "likelihood ratio test: chi2=10.6422 , p=0.0011  , df=1\n",
      "parameter F test:         F=10.7521 , p=0.0012  , df_denom=223, df_num=1\n"
     ]
    },
    {
     "data": {
      "text/plain": [
       "{1: ({'ssr_ftest': (10.752091645241716, 0.0012083728632787509, 223.0, 1),\n",
       "   'ssr_chi2test': (10.896738618047658, 0.0009633372514465203, 1),\n",
       "   'lrtest': (10.642191943689113, 0.0011053658621000804, 1),\n",
       "   'params_ftest': (10.75209164524178, 0.001208372863278689, 223.0, 1.0)},\n",
       "  [<statsmodels.regression.linear_model.RegressionResultsWrapper at 0x223f66101c0>,\n",
       "   <statsmodels.regression.linear_model.RegressionResultsWrapper at 0x223f6610550>,\n",
       "   array([[0., 1., 0.]])])}"
      ]
     },
     "execution_count": 106,
     "metadata": {},
     "output_type": "execute_result"
    }
   ],
   "source": [
    "from statsmodels.tsa.stattools import grangercausalitytests\n",
    "\n",
    "grangercausalitytests(Sentiment_Stocks[['avg_score', '% Change']], maxlag = [1])"
   ]
  },
  {
   "attachments": {},
   "cell_type": "markdown",
   "metadata": {},
   "source": [
    "## Classification Modeling"
   ]
  },
  {
   "cell_type": "code",
   "execution_count": 107,
   "metadata": {},
   "outputs": [],
   "source": [
    "X = Sentiment_Stocks[['avg_score','num_comments']]\n",
    "y = Sentiment_Stocks['Up_Down']"
   ]
  },
  {
   "cell_type": "code",
   "execution_count": 108,
   "metadata": {},
   "outputs": [],
   "source": [
    "# Model Pipelines\n",
    "\n",
    "dt_pipeline = Pipeline([('scaler', MinMaxScaler()),('dt', DecisionTreeClassifier())])\n",
    "nb_pipeline = Pipeline([('scaler', MinMaxScaler()), ('nb', GaussianNB())])\n",
    "knn_pipeline = Pipeline([('scaler', MinMaxScaler()), ('knn', KNeighborsClassifier())])\n",
    "gb_pipeline = Pipeline([('scaler', MinMaxScaler()), ('gb', GradientBoostingClassifier())])\n",
    "ada_pipeline = Pipeline([('scaler', MinMaxScaler()), ('ada', AdaBoostClassifier())])"
   ]
  },
  {
   "attachments": {},
   "cell_type": "markdown",
   "metadata": {},
   "source": [
    "#### Time Series Split for Modeling"
   ]
  },
  {
   "cell_type": "code",
   "execution_count": 111,
   "metadata": {},
   "outputs": [],
   "source": [
    "tscv = TimeSeriesSplit(n_splits=3)\n",
    "#for train_index, test_index in tscv.split(X):\n",
    "#   print(\"TRAIN:\", train_index, \"TEST:\", test_index) -> Commented out due to long output. Results below\n",
    "\n",
    "Train1x = X[:59]\n",
    "Train1y = y[:59]\n",
    "Test1x = X[59:115]\n",
    "Test1y = y[59:115]\n",
    "Train2x = X[:115]\n",
    "Train2y = y[:115]\n",
    "Test2x = X[115:171]\n",
    "Test2y = y[115:171]\n",
    "Train3x = X[:171]\n",
    "Train3y = y[:171]\n",
    "Test3x = X[171:]\n",
    "Test3y = y[171:]"
   ]
  },
  {
   "attachments": {},
   "cell_type": "markdown",
   "metadata": {},
   "source": [
    "#### Grid Searching and Hyperparameter tuning our models"
   ]
  },
  {
   "cell_type": "code",
   "execution_count": 109,
   "metadata": {},
   "outputs": [],
   "source": [
    "# Decision Tree Parameters\n",
    "dt_params = {'dt__max_depth': [1,2,3,4,5], 'dt__min_samples_split': [3,5,7,9,11]}\n",
    "\n",
    "# KNN Parameters\n",
    "knn_params = {'knn__n_neighbors': [10,15,20,25,30]}\n",
    "\n",
    "# Naive Bayes Parameters\n",
    "nb_params = {\"nb__var_smoothing\": [1, 0.1, 1e-2, 1e-3, 1e-4, 1e-5, 1e-6, 1e-7, 1e-8, 1e-9, 1e-10]}\n",
    "\n",
    "# Gradient Boost Parameters\n",
    "gb_params = {\"gb__n_estimators\":[10,15,20,25,30],\n",
    "             \"gb__max_depth\":[1,3,5,7,9],\n",
    "             \"gb__learning_rate\":[5,10,15,20,25]}\n",
    "\n",
    "# ADA Boost Parameters\n",
    "ada_params = {'ada__n_estimators': [2],\n",
    "              'ada__learning_rate': np.arange(0.1,1,0.1)}"
   ]
  },
  {
   "cell_type": "code",
   "execution_count": 110,
   "metadata": {},
   "outputs": [],
   "source": [
    "# Wrapping all models in a dictionary to loop through\n",
    "Models_Parameters = {'DecisionTree': [dt_pipeline, dt_params]\n",
    "        ,'KNearest': [knn_pipeline, knn_params],\n",
    "        'NaiveBayes': [nb_pipeline, nb_params],\n",
    "        'GradientBoost': [gb_pipeline, gb_params],\n",
    "        'AdaBoost': [ada_pipeline, ada_params]}"
   ]
  },
  {
   "cell_type": "code",
   "execution_count": 112,
   "metadata": {},
   "outputs": [
    {
     "data": {
      "application/vnd.jupyter.widget-view+json": {
       "model_id": "bd34620a7da1428b8a705276a08ea620",
       "version_major": 2,
       "version_minor": 0
      },
      "text/plain": [
       "  0%|          | 0/5 [00:00<?, ?it/s]"
      ]
     },
     "metadata": {},
     "output_type": "display_data"
    },
    {
     "name": "stdout",
     "output_type": "stream",
     "text": [
      "Fitting 3 folds for each of 25 candidates, totalling 75 fits\n",
      "[CV] END ...........dt__max_depth=1, dt__min_samples_split=3; total time=   0.0s\n",
      "[CV] END ...........dt__max_depth=1, dt__min_samples_split=3; total time=   0.0s\n",
      "[CV] END ...........dt__max_depth=1, dt__min_samples_split=3; total time=   0.0s\n",
      "[CV] END ...........dt__max_depth=1, dt__min_samples_split=5; total time=   0.0s\n",
      "[CV] END ...........dt__max_depth=1, dt__min_samples_split=5; total time=   0.0s\n",
      "[CV] END ...........dt__max_depth=1, dt__min_samples_split=5; total time=   0.0s\n",
      "[CV] END ...........dt__max_depth=1, dt__min_samples_split=7; total time=   0.0s\n",
      "[CV] END ...........dt__max_depth=1, dt__min_samples_split=7; total time=   0.0s\n",
      "[CV] END ...........dt__max_depth=1, dt__min_samples_split=7; total time=   0.0s\n",
      "[CV] END ...........dt__max_depth=1, dt__min_samples_split=9; total time=   0.0s\n",
      "[CV] END ...........dt__max_depth=1, dt__min_samples_split=9; total time=   0.0s\n",
      "[CV] END ...........dt__max_depth=1, dt__min_samples_split=9; total time=   0.0s\n",
      "[CV] END ..........dt__max_depth=1, dt__min_samples_split=11; total time=   0.0s\n",
      "[CV] END ..........dt__max_depth=1, dt__min_samples_split=11; total time=   0.0s\n",
      "[CV] END ..........dt__max_depth=1, dt__min_samples_split=11; total time=   0.0s\n",
      "[CV] END ...........dt__max_depth=2, dt__min_samples_split=3; total time=   0.0s\n",
      "[CV] END ...........dt__max_depth=2, dt__min_samples_split=3; total time=   0.0s\n",
      "[CV] END ...........dt__max_depth=2, dt__min_samples_split=3; total time=   0.0s\n",
      "[CV] END ...........dt__max_depth=2, dt__min_samples_split=5; total time=   0.0s\n",
      "[CV] END ...........dt__max_depth=2, dt__min_samples_split=5; total time=   0.0s\n",
      "[CV] END ...........dt__max_depth=2, dt__min_samples_split=5; total time=   0.0s\n",
      "[CV] END ...........dt__max_depth=2, dt__min_samples_split=7; total time=   0.0s\n",
      "[CV] END ...........dt__max_depth=2, dt__min_samples_split=7; total time=   0.0s\n",
      "[CV] END ...........dt__max_depth=2, dt__min_samples_split=7; total time=   0.0s\n",
      "[CV] END ...........dt__max_depth=2, dt__min_samples_split=9; total time=   0.0s\n",
      "[CV] END ...........dt__max_depth=2, dt__min_samples_split=9; total time=   0.0s\n",
      "[CV] END ...........dt__max_depth=2, dt__min_samples_split=9; total time=   0.0s\n",
      "[CV] END ..........dt__max_depth=2, dt__min_samples_split=11; total time=   0.0s\n",
      "[CV] END ..........dt__max_depth=2, dt__min_samples_split=11; total time=   0.0s\n",
      "[CV] END ..........dt__max_depth=2, dt__min_samples_split=11; total time=   0.0s\n",
      "[CV] END ...........dt__max_depth=3, dt__min_samples_split=3; total time=   0.0s\n",
      "[CV] END ...........dt__max_depth=3, dt__min_samples_split=3; total time=   0.0s\n",
      "[CV] END ...........dt__max_depth=3, dt__min_samples_split=3; total time=   0.0s\n",
      "[CV] END ...........dt__max_depth=3, dt__min_samples_split=5; total time=   0.0s\n",
      "[CV] END ...........dt__max_depth=3, dt__min_samples_split=5; total time=   0.0s\n",
      "[CV] END ...........dt__max_depth=3, dt__min_samples_split=5; total time=   0.0s\n",
      "[CV] END ...........dt__max_depth=3, dt__min_samples_split=7; total time=   0.0s\n",
      "[CV] END ...........dt__max_depth=3, dt__min_samples_split=7; total time=   0.0s\n",
      "[CV] END ...........dt__max_depth=3, dt__min_samples_split=7; total time=   0.0s\n",
      "[CV] END ...........dt__max_depth=3, dt__min_samples_split=9; total time=   0.0s\n",
      "[CV] END ...........dt__max_depth=3, dt__min_samples_split=9; total time=   0.0s\n",
      "[CV] END ...........dt__max_depth=3, dt__min_samples_split=9; total time=   0.0s\n",
      "[CV] END ..........dt__max_depth=3, dt__min_samples_split=11; total time=   0.0s\n",
      "[CV] END ..........dt__max_depth=3, dt__min_samples_split=11; total time=   0.0s\n",
      "[CV] END ..........dt__max_depth=3, dt__min_samples_split=11; total time=   0.0s\n",
      "[CV] END ...........dt__max_depth=4, dt__min_samples_split=3; total time=   0.0s\n",
      "[CV] END ...........dt__max_depth=4, dt__min_samples_split=3; total time=   0.0s\n",
      "[CV] END ...........dt__max_depth=4, dt__min_samples_split=3; total time=   0.0s\n",
      "[CV] END ...........dt__max_depth=4, dt__min_samples_split=5; total time=   0.0s\n",
      "[CV] END ...........dt__max_depth=4, dt__min_samples_split=5; total time=   0.0s\n",
      "[CV] END ...........dt__max_depth=4, dt__min_samples_split=5; total time=   0.0s\n",
      "[CV] END ...........dt__max_depth=4, dt__min_samples_split=7; total time=   0.0s\n",
      "[CV] END ...........dt__max_depth=4, dt__min_samples_split=7; total time=   0.0s\n",
      "[CV] END ...........dt__max_depth=4, dt__min_samples_split=7; total time=   0.0s\n",
      "[CV] END ...........dt__max_depth=4, dt__min_samples_split=9; total time=   0.0s\n",
      "[CV] END ...........dt__max_depth=4, dt__min_samples_split=9; total time=   0.0s\n",
      "[CV] END ...........dt__max_depth=4, dt__min_samples_split=9; total time=   0.0s\n",
      "[CV] END ..........dt__max_depth=4, dt__min_samples_split=11; total time=   0.0s\n",
      "[CV] END ..........dt__max_depth=4, dt__min_samples_split=11; total time=   0.0s\n",
      "[CV] END ..........dt__max_depth=4, dt__min_samples_split=11; total time=   0.0s\n",
      "[CV] END ...........dt__max_depth=5, dt__min_samples_split=3; total time=   0.0s\n",
      "[CV] END ...........dt__max_depth=5, dt__min_samples_split=3; total time=   0.0s\n",
      "[CV] END ...........dt__max_depth=5, dt__min_samples_split=3; total time=   0.0s\n",
      "[CV] END ...........dt__max_depth=5, dt__min_samples_split=5; total time=   0.0s\n",
      "[CV] END ...........dt__max_depth=5, dt__min_samples_split=5; total time=   0.0s\n",
      "[CV] END ...........dt__max_depth=5, dt__min_samples_split=5; total time=   0.0s\n",
      "[CV] END ...........dt__max_depth=5, dt__min_samples_split=7; total time=   0.0s\n",
      "[CV] END ...........dt__max_depth=5, dt__min_samples_split=7; total time=   0.0s\n",
      "[CV] END ...........dt__max_depth=5, dt__min_samples_split=7; total time=   0.0s\n",
      "[CV] END ...........dt__max_depth=5, dt__min_samples_split=9; total time=   0.0s\n",
      "[CV] END ...........dt__max_depth=5, dt__min_samples_split=9; total time=   0.0s\n",
      "[CV] END ...........dt__max_depth=5, dt__min_samples_split=9; total time=   0.0s\n",
      "[CV] END ..........dt__max_depth=5, dt__min_samples_split=11; total time=   0.0s\n",
      "[CV] END ..........dt__max_depth=5, dt__min_samples_split=11; total time=   0.0s\n",
      "[CV] END ..........dt__max_depth=5, dt__min_samples_split=11; total time=   0.0s\n",
      "Fitting 3 folds for each of 5 candidates, totalling 15 fits\n",
      "[CV] END ................................knn__n_neighbors=10; total time=   0.0s\n",
      "[CV] END ................................knn__n_neighbors=10; total time=   0.0s\n",
      "[CV] END ................................knn__n_neighbors=10; total time=   0.0s\n",
      "[CV] END ................................knn__n_neighbors=15; total time=   0.0s\n",
      "[CV] END ................................knn__n_neighbors=15; total time=   0.0s\n",
      "[CV] END ................................knn__n_neighbors=15; total time=   0.0s\n",
      "[CV] END ................................knn__n_neighbors=20; total time=   0.0s\n",
      "[CV] END ................................knn__n_neighbors=20; total time=   0.0s\n",
      "[CV] END ................................knn__n_neighbors=20; total time=   0.0s\n",
      "[CV] END ................................knn__n_neighbors=25; total time=   0.0s\n",
      "[CV] END ................................knn__n_neighbors=25; total time=   0.0s\n",
      "[CV] END ................................knn__n_neighbors=25; total time=   0.0s\n",
      "[CV] END ................................knn__n_neighbors=30; total time=   0.0s\n",
      "[CV] END ................................knn__n_neighbors=30; total time=   0.0s\n",
      "[CV] END ................................knn__n_neighbors=30; total time=   0.0s\n",
      "Fitting 3 folds for each of 11 candidates, totalling 33 fits\n",
      "[CV] END ................................nb__var_smoothing=1; total time=   0.0s\n",
      "[CV] END ................................nb__var_smoothing=1; total time=   0.0s\n",
      "[CV] END ................................nb__var_smoothing=1; total time=   0.0s\n",
      "[CV] END ..............................nb__var_smoothing=0.1; total time=   0.0s\n",
      "[CV] END ..............................nb__var_smoothing=0.1; total time=   0.0s\n",
      "[CV] END ..............................nb__var_smoothing=0.1; total time=   0.0s\n",
      "[CV] END .............................nb__var_smoothing=0.01; total time=   0.0s\n",
      "[CV] END .............................nb__var_smoothing=0.01; total time=   0.0s\n",
      "[CV] END .............................nb__var_smoothing=0.01; total time=   0.0s\n",
      "[CV] END ............................nb__var_smoothing=0.001; total time=   0.0s\n",
      "[CV] END ............................nb__var_smoothing=0.001; total time=   0.0s\n",
      "[CV] END ............................nb__var_smoothing=0.001; total time=   0.0s\n",
      "[CV] END ...........................nb__var_smoothing=0.0001; total time=   0.0s\n",
      "[CV] END ...........................nb__var_smoothing=0.0001; total time=   0.0s\n",
      "[CV] END ...........................nb__var_smoothing=0.0001; total time=   0.0s\n",
      "[CV] END ............................nb__var_smoothing=1e-05; total time=   0.0s\n",
      "[CV] END ............................nb__var_smoothing=1e-05; total time=   0.0s\n",
      "[CV] END ............................nb__var_smoothing=1e-05; total time=   0.0s\n",
      "[CV] END ............................nb__var_smoothing=1e-06; total time=   0.0s\n",
      "[CV] END ............................nb__var_smoothing=1e-06; total time=   0.0s\n",
      "[CV] END ............................nb__var_smoothing=1e-06; total time=   0.0s\n",
      "[CV] END ............................nb__var_smoothing=1e-07; total time=   0.0s\n",
      "[CV] END ............................nb__var_smoothing=1e-07; total time=   0.0s\n",
      "[CV] END ............................nb__var_smoothing=1e-07; total time=   0.0s\n",
      "[CV] END ............................nb__var_smoothing=1e-08; total time=   0.0s\n",
      "[CV] END ............................nb__var_smoothing=1e-08; total time=   0.0s\n",
      "[CV] END ............................nb__var_smoothing=1e-08; total time=   0.0s\n",
      "[CV] END ............................nb__var_smoothing=1e-09; total time=   0.0s\n",
      "[CV] END ............................nb__var_smoothing=1e-09; total time=   0.0s\n",
      "[CV] END ............................nb__var_smoothing=1e-09; total time=   0.0s\n",
      "[CV] END ............................nb__var_smoothing=1e-10; total time=   0.0s\n",
      "[CV] END ............................nb__var_smoothing=1e-10; total time=   0.0s\n",
      "[CV] END ............................nb__var_smoothing=1e-10; total time=   0.0s\n",
      "Fitting 3 folds for each of 125 candidates, totalling 375 fits\n",
      "[CV] END gb__learning_rate=5, gb__max_depth=1, gb__n_estimators=10; total time=   0.0s\n",
      "[CV] END gb__learning_rate=5, gb__max_depth=1, gb__n_estimators=10; total time=   0.0s\n",
      "[CV] END gb__learning_rate=5, gb__max_depth=1, gb__n_estimators=10; total time=   0.0s\n",
      "[CV] END gb__learning_rate=5, gb__max_depth=1, gb__n_estimators=15; total time=   0.0s\n",
      "[CV] END gb__learning_rate=5, gb__max_depth=1, gb__n_estimators=15; total time=   0.0s\n",
      "[CV] END gb__learning_rate=5, gb__max_depth=1, gb__n_estimators=15; total time=   0.0s\n",
      "[CV] END gb__learning_rate=5, gb__max_depth=1, gb__n_estimators=20; total time=   0.0s\n",
      "[CV] END gb__learning_rate=5, gb__max_depth=1, gb__n_estimators=20; total time=   0.0s\n",
      "[CV] END gb__learning_rate=5, gb__max_depth=1, gb__n_estimators=20; total time=   0.0s\n",
      "[CV] END gb__learning_rate=5, gb__max_depth=1, gb__n_estimators=25; total time=   0.0s\n",
      "[CV] END gb__learning_rate=5, gb__max_depth=1, gb__n_estimators=25; total time=   0.0s\n",
      "[CV] END gb__learning_rate=5, gb__max_depth=1, gb__n_estimators=25; total time=   0.0s\n",
      "[CV] END gb__learning_rate=5, gb__max_depth=1, gb__n_estimators=30; total time=   0.0s\n",
      "[CV] END gb__learning_rate=5, gb__max_depth=1, gb__n_estimators=30; total time=   0.0s\n",
      "[CV] END gb__learning_rate=5, gb__max_depth=1, gb__n_estimators=30; total time=   0.0s\n",
      "[CV] END gb__learning_rate=5, gb__max_depth=3, gb__n_estimators=10; total time=   0.0s\n",
      "[CV] END gb__learning_rate=5, gb__max_depth=3, gb__n_estimators=10; total time=   0.0s\n",
      "[CV] END gb__learning_rate=5, gb__max_depth=3, gb__n_estimators=10; total time=   0.0s\n",
      "[CV] END gb__learning_rate=5, gb__max_depth=3, gb__n_estimators=15; total time=   0.0s\n",
      "[CV] END gb__learning_rate=5, gb__max_depth=3, gb__n_estimators=15; total time=   0.0s\n",
      "[CV] END gb__learning_rate=5, gb__max_depth=3, gb__n_estimators=15; total time=   0.0s\n",
      "[CV] END gb__learning_rate=5, gb__max_depth=3, gb__n_estimators=20; total time=   0.0s\n",
      "[CV] END gb__learning_rate=5, gb__max_depth=3, gb__n_estimators=20; total time=   0.0s\n",
      "[CV] END gb__learning_rate=5, gb__max_depth=3, gb__n_estimators=20; total time=   0.0s\n",
      "[CV] END gb__learning_rate=5, gb__max_depth=3, gb__n_estimators=25; total time=   0.0s\n",
      "[CV] END gb__learning_rate=5, gb__max_depth=3, gb__n_estimators=25; total time=   0.0s\n",
      "[CV] END gb__learning_rate=5, gb__max_depth=3, gb__n_estimators=25; total time=   0.0s\n",
      "[CV] END gb__learning_rate=5, gb__max_depth=3, gb__n_estimators=30; total time=   0.0s\n",
      "[CV] END gb__learning_rate=5, gb__max_depth=3, gb__n_estimators=30; total time=   0.0s\n",
      "[CV] END gb__learning_rate=5, gb__max_depth=3, gb__n_estimators=30; total time=   0.0s\n",
      "[CV] END gb__learning_rate=5, gb__max_depth=5, gb__n_estimators=10; total time=   0.0s\n",
      "[CV] END gb__learning_rate=5, gb__max_depth=5, gb__n_estimators=10; total time=   0.0s\n",
      "[CV] END gb__learning_rate=5, gb__max_depth=5, gb__n_estimators=10; total time=   0.0s\n",
      "[CV] END gb__learning_rate=5, gb__max_depth=5, gb__n_estimators=15; total time=   0.0s\n",
      "[CV] END gb__learning_rate=5, gb__max_depth=5, gb__n_estimators=15; total time=   0.0s\n",
      "[CV] END gb__learning_rate=5, gb__max_depth=5, gb__n_estimators=15; total time=   0.0s\n",
      "[CV] END gb__learning_rate=5, gb__max_depth=5, gb__n_estimators=20; total time=   0.0s\n",
      "[CV] END gb__learning_rate=5, gb__max_depth=5, gb__n_estimators=20; total time=   0.0s\n",
      "[CV] END gb__learning_rate=5, gb__max_depth=5, gb__n_estimators=20; total time=   0.0s\n",
      "[CV] END gb__learning_rate=5, gb__max_depth=5, gb__n_estimators=25; total time=   0.0s\n",
      "[CV] END gb__learning_rate=5, gb__max_depth=5, gb__n_estimators=25; total time=   0.0s\n",
      "[CV] END gb__learning_rate=5, gb__max_depth=5, gb__n_estimators=25; total time=   0.0s\n",
      "[CV] END gb__learning_rate=5, gb__max_depth=5, gb__n_estimators=30; total time=   0.0s\n",
      "[CV] END gb__learning_rate=5, gb__max_depth=5, gb__n_estimators=30; total time=   0.0s\n",
      "[CV] END gb__learning_rate=5, gb__max_depth=5, gb__n_estimators=30; total time=   0.0s\n",
      "[CV] END gb__learning_rate=5, gb__max_depth=7, gb__n_estimators=10; total time=   0.0s\n",
      "[CV] END gb__learning_rate=5, gb__max_depth=7, gb__n_estimators=10; total time=   0.0s\n",
      "[CV] END gb__learning_rate=5, gb__max_depth=7, gb__n_estimators=10; total time=   0.0s\n",
      "[CV] END gb__learning_rate=5, gb__max_depth=7, gb__n_estimators=15; total time=   0.0s\n",
      "[CV] END gb__learning_rate=5, gb__max_depth=7, gb__n_estimators=15; total time=   0.0s\n",
      "[CV] END gb__learning_rate=5, gb__max_depth=7, gb__n_estimators=15; total time=   0.0s\n",
      "[CV] END gb__learning_rate=5, gb__max_depth=7, gb__n_estimators=20; total time=   0.0s\n",
      "[CV] END gb__learning_rate=5, gb__max_depth=7, gb__n_estimators=20; total time=   0.0s\n",
      "[CV] END gb__learning_rate=5, gb__max_depth=7, gb__n_estimators=20; total time=   0.0s\n",
      "[CV] END gb__learning_rate=5, gb__max_depth=7, gb__n_estimators=25; total time=   0.0s\n",
      "[CV] END gb__learning_rate=5, gb__max_depth=7, gb__n_estimators=25; total time=   0.0s\n",
      "[CV] END gb__learning_rate=5, gb__max_depth=7, gb__n_estimators=25; total time=   0.0s\n",
      "[CV] END gb__learning_rate=5, gb__max_depth=7, gb__n_estimators=30; total time=   0.0s\n",
      "[CV] END gb__learning_rate=5, gb__max_depth=7, gb__n_estimators=30; total time=   0.0s\n",
      "[CV] END gb__learning_rate=5, gb__max_depth=7, gb__n_estimators=30; total time=   0.0s\n",
      "[CV] END gb__learning_rate=5, gb__max_depth=9, gb__n_estimators=10; total time=   0.0s\n",
      "[CV] END gb__learning_rate=5, gb__max_depth=9, gb__n_estimators=10; total time=   0.0s\n",
      "[CV] END gb__learning_rate=5, gb__max_depth=9, gb__n_estimators=10; total time=   0.0s\n",
      "[CV] END gb__learning_rate=5, gb__max_depth=9, gb__n_estimators=15; total time=   0.0s\n",
      "[CV] END gb__learning_rate=5, gb__max_depth=9, gb__n_estimators=15; total time=   0.0s\n",
      "[CV] END gb__learning_rate=5, gb__max_depth=9, gb__n_estimators=15; total time=   0.0s\n",
      "[CV] END gb__learning_rate=5, gb__max_depth=9, gb__n_estimators=20; total time=   0.0s\n",
      "[CV] END gb__learning_rate=5, gb__max_depth=9, gb__n_estimators=20; total time=   0.0s\n",
      "[CV] END gb__learning_rate=5, gb__max_depth=9, gb__n_estimators=20; total time=   0.0s\n",
      "[CV] END gb__learning_rate=5, gb__max_depth=9, gb__n_estimators=25; total time=   0.0s\n",
      "[CV] END gb__learning_rate=5, gb__max_depth=9, gb__n_estimators=25; total time=   0.0s\n",
      "[CV] END gb__learning_rate=5, gb__max_depth=9, gb__n_estimators=25; total time=   0.0s\n",
      "[CV] END gb__learning_rate=5, gb__max_depth=9, gb__n_estimators=30; total time=   0.0s\n",
      "[CV] END gb__learning_rate=5, gb__max_depth=9, gb__n_estimators=30; total time=   0.0s\n",
      "[CV] END gb__learning_rate=5, gb__max_depth=9, gb__n_estimators=30; total time=   0.0s\n",
      "[CV] END gb__learning_rate=10, gb__max_depth=1, gb__n_estimators=10; total time=   0.0s\n",
      "[CV] END gb__learning_rate=10, gb__max_depth=1, gb__n_estimators=10; total time=   0.0s\n",
      "[CV] END gb__learning_rate=10, gb__max_depth=1, gb__n_estimators=10; total time=   0.0s\n",
      "[CV] END gb__learning_rate=10, gb__max_depth=1, gb__n_estimators=15; total time=   0.0s\n",
      "[CV] END gb__learning_rate=10, gb__max_depth=1, gb__n_estimators=15; total time=   0.0s\n",
      "[CV] END gb__learning_rate=10, gb__max_depth=1, gb__n_estimators=15; total time=   0.0s\n",
      "[CV] END gb__learning_rate=10, gb__max_depth=1, gb__n_estimators=20; total time=   0.0s\n",
      "[CV] END gb__learning_rate=10, gb__max_depth=1, gb__n_estimators=20; total time=   0.0s\n",
      "[CV] END gb__learning_rate=10, gb__max_depth=1, gb__n_estimators=20; total time=   0.0s\n",
      "[CV] END gb__learning_rate=10, gb__max_depth=1, gb__n_estimators=25; total time=   0.0s\n",
      "[CV] END gb__learning_rate=10, gb__max_depth=1, gb__n_estimators=25; total time=   0.0s\n",
      "[CV] END gb__learning_rate=10, gb__max_depth=1, gb__n_estimators=25; total time=   0.0s\n",
      "[CV] END gb__learning_rate=10, gb__max_depth=1, gb__n_estimators=30; total time=   0.0s\n",
      "[CV] END gb__learning_rate=10, gb__max_depth=1, gb__n_estimators=30; total time=   0.0s\n",
      "[CV] END gb__learning_rate=10, gb__max_depth=1, gb__n_estimators=30; total time=   0.0s\n",
      "[CV] END gb__learning_rate=10, gb__max_depth=3, gb__n_estimators=10; total time=   0.0s\n",
      "[CV] END gb__learning_rate=10, gb__max_depth=3, gb__n_estimators=10; total time=   0.0s\n",
      "[CV] END gb__learning_rate=10, gb__max_depth=3, gb__n_estimators=10; total time=   0.0s\n",
      "[CV] END gb__learning_rate=10, gb__max_depth=3, gb__n_estimators=15; total time=   0.0s\n",
      "[CV] END gb__learning_rate=10, gb__max_depth=3, gb__n_estimators=15; total time=   0.0s\n",
      "[CV] END gb__learning_rate=10, gb__max_depth=3, gb__n_estimators=15; total time=   0.0s\n",
      "[CV] END gb__learning_rate=10, gb__max_depth=3, gb__n_estimators=20; total time=   0.0s\n",
      "[CV] END gb__learning_rate=10, gb__max_depth=3, gb__n_estimators=20; total time=   0.0s\n",
      "[CV] END gb__learning_rate=10, gb__max_depth=3, gb__n_estimators=20; total time=   0.0s\n",
      "[CV] END gb__learning_rate=10, gb__max_depth=3, gb__n_estimators=25; total time=   0.0s\n",
      "[CV] END gb__learning_rate=10, gb__max_depth=3, gb__n_estimators=25; total time=   0.0s\n",
      "[CV] END gb__learning_rate=10, gb__max_depth=3, gb__n_estimators=25; total time=   0.0s\n",
      "[CV] END gb__learning_rate=10, gb__max_depth=3, gb__n_estimators=30; total time=   0.0s\n",
      "[CV] END gb__learning_rate=10, gb__max_depth=3, gb__n_estimators=30; total time=   0.0s\n",
      "[CV] END gb__learning_rate=10, gb__max_depth=3, gb__n_estimators=30; total time=   0.0s\n",
      "[CV] END gb__learning_rate=10, gb__max_depth=5, gb__n_estimators=10; total time=   0.0s\n",
      "[CV] END gb__learning_rate=10, gb__max_depth=5, gb__n_estimators=10; total time=   0.0s\n",
      "[CV] END gb__learning_rate=10, gb__max_depth=5, gb__n_estimators=10; total time=   0.0s\n",
      "[CV] END gb__learning_rate=10, gb__max_depth=5, gb__n_estimators=15; total time=   0.0s\n",
      "[CV] END gb__learning_rate=10, gb__max_depth=5, gb__n_estimators=15; total time=   0.0s\n",
      "[CV] END gb__learning_rate=10, gb__max_depth=5, gb__n_estimators=15; total time=   0.0s\n",
      "[CV] END gb__learning_rate=10, gb__max_depth=5, gb__n_estimators=20; total time=   0.0s\n",
      "[CV] END gb__learning_rate=10, gb__max_depth=5, gb__n_estimators=20; total time=   0.0s\n",
      "[CV] END gb__learning_rate=10, gb__max_depth=5, gb__n_estimators=20; total time=   0.0s\n",
      "[CV] END gb__learning_rate=10, gb__max_depth=5, gb__n_estimators=25; total time=   0.0s\n",
      "[CV] END gb__learning_rate=10, gb__max_depth=5, gb__n_estimators=25; total time=   0.0s\n",
      "[CV] END gb__learning_rate=10, gb__max_depth=5, gb__n_estimators=25; total time=   0.0s\n",
      "[CV] END gb__learning_rate=10, gb__max_depth=5, gb__n_estimators=30; total time=   0.0s\n",
      "[CV] END gb__learning_rate=10, gb__max_depth=5, gb__n_estimators=30; total time=   0.0s\n",
      "[CV] END gb__learning_rate=10, gb__max_depth=5, gb__n_estimators=30; total time=   0.0s\n",
      "[CV] END gb__learning_rate=10, gb__max_depth=7, gb__n_estimators=10; total time=   0.0s\n",
      "[CV] END gb__learning_rate=10, gb__max_depth=7, gb__n_estimators=10; total time=   0.0s\n",
      "[CV] END gb__learning_rate=10, gb__max_depth=7, gb__n_estimators=10; total time=   0.0s\n",
      "[CV] END gb__learning_rate=10, gb__max_depth=7, gb__n_estimators=15; total time=   0.0s\n",
      "[CV] END gb__learning_rate=10, gb__max_depth=7, gb__n_estimators=15; total time=   0.0s\n",
      "[CV] END gb__learning_rate=10, gb__max_depth=7, gb__n_estimators=15; total time=   0.0s\n",
      "[CV] END gb__learning_rate=10, gb__max_depth=7, gb__n_estimators=20; total time=   0.0s\n",
      "[CV] END gb__learning_rate=10, gb__max_depth=7, gb__n_estimators=20; total time=   0.0s\n",
      "[CV] END gb__learning_rate=10, gb__max_depth=7, gb__n_estimators=20; total time=   0.0s\n",
      "[CV] END gb__learning_rate=10, gb__max_depth=7, gb__n_estimators=25; total time=   0.0s\n",
      "[CV] END gb__learning_rate=10, gb__max_depth=7, gb__n_estimators=25; total time=   0.0s\n",
      "[CV] END gb__learning_rate=10, gb__max_depth=7, gb__n_estimators=25; total time=   0.0s\n",
      "[CV] END gb__learning_rate=10, gb__max_depth=7, gb__n_estimators=30; total time=   0.0s\n",
      "[CV] END gb__learning_rate=10, gb__max_depth=7, gb__n_estimators=30; total time=   0.0s\n",
      "[CV] END gb__learning_rate=10, gb__max_depth=7, gb__n_estimators=30; total time=   0.0s\n",
      "[CV] END gb__learning_rate=10, gb__max_depth=9, gb__n_estimators=10; total time=   0.0s\n",
      "[CV] END gb__learning_rate=10, gb__max_depth=9, gb__n_estimators=10; total time=   0.0s\n",
      "[CV] END gb__learning_rate=10, gb__max_depth=9, gb__n_estimators=10; total time=   0.0s\n",
      "[CV] END gb__learning_rate=10, gb__max_depth=9, gb__n_estimators=15; total time=   0.0s\n",
      "[CV] END gb__learning_rate=10, gb__max_depth=9, gb__n_estimators=15; total time=   0.0s\n",
      "[CV] END gb__learning_rate=10, gb__max_depth=9, gb__n_estimators=15; total time=   0.0s\n",
      "[CV] END gb__learning_rate=10, gb__max_depth=9, gb__n_estimators=20; total time=   0.0s\n",
      "[CV] END gb__learning_rate=10, gb__max_depth=9, gb__n_estimators=20; total time=   0.0s\n",
      "[CV] END gb__learning_rate=10, gb__max_depth=9, gb__n_estimators=20; total time=   0.0s\n",
      "[CV] END gb__learning_rate=10, gb__max_depth=9, gb__n_estimators=25; total time=   0.0s\n",
      "[CV] END gb__learning_rate=10, gb__max_depth=9, gb__n_estimators=25; total time=   0.0s\n",
      "[CV] END gb__learning_rate=10, gb__max_depth=9, gb__n_estimators=25; total time=   0.0s\n",
      "[CV] END gb__learning_rate=10, gb__max_depth=9, gb__n_estimators=30; total time=   0.0s\n",
      "[CV] END gb__learning_rate=10, gb__max_depth=9, gb__n_estimators=30; total time=   0.0s\n",
      "[CV] END gb__learning_rate=10, gb__max_depth=9, gb__n_estimators=30; total time=   0.0s\n",
      "[CV] END gb__learning_rate=15, gb__max_depth=1, gb__n_estimators=10; total time=   0.0s\n",
      "[CV] END gb__learning_rate=15, gb__max_depth=1, gb__n_estimators=10; total time=   0.0s\n",
      "[CV] END gb__learning_rate=15, gb__max_depth=1, gb__n_estimators=10; total time=   0.0s\n",
      "[CV] END gb__learning_rate=15, gb__max_depth=1, gb__n_estimators=15; total time=   0.0s\n",
      "[CV] END gb__learning_rate=15, gb__max_depth=1, gb__n_estimators=15; total time=   0.0s\n",
      "[CV] END gb__learning_rate=15, gb__max_depth=1, gb__n_estimators=15; total time=   0.0s\n",
      "[CV] END gb__learning_rate=15, gb__max_depth=1, gb__n_estimators=20; total time=   0.0s\n",
      "[CV] END gb__learning_rate=15, gb__max_depth=1, gb__n_estimators=20; total time=   0.0s\n",
      "[CV] END gb__learning_rate=15, gb__max_depth=1, gb__n_estimators=20; total time=   0.0s\n",
      "[CV] END gb__learning_rate=15, gb__max_depth=1, gb__n_estimators=25; total time=   0.0s\n",
      "[CV] END gb__learning_rate=15, gb__max_depth=1, gb__n_estimators=25; total time=   0.0s\n",
      "[CV] END gb__learning_rate=15, gb__max_depth=1, gb__n_estimators=25; total time=   0.0s\n",
      "[CV] END gb__learning_rate=15, gb__max_depth=1, gb__n_estimators=30; total time=   0.0s\n",
      "[CV] END gb__learning_rate=15, gb__max_depth=1, gb__n_estimators=30; total time=   0.0s\n",
      "[CV] END gb__learning_rate=15, gb__max_depth=1, gb__n_estimators=30; total time=   0.0s\n",
      "[CV] END gb__learning_rate=15, gb__max_depth=3, gb__n_estimators=10; total time=   0.0s\n",
      "[CV] END gb__learning_rate=15, gb__max_depth=3, gb__n_estimators=10; total time=   0.0s\n",
      "[CV] END gb__learning_rate=15, gb__max_depth=3, gb__n_estimators=10; total time=   0.0s\n",
      "[CV] END gb__learning_rate=15, gb__max_depth=3, gb__n_estimators=15; total time=   0.0s\n",
      "[CV] END gb__learning_rate=15, gb__max_depth=3, gb__n_estimators=15; total time=   0.0s\n",
      "[CV] END gb__learning_rate=15, gb__max_depth=3, gb__n_estimators=15; total time=   0.0s\n",
      "[CV] END gb__learning_rate=15, gb__max_depth=3, gb__n_estimators=20; total time=   0.0s\n",
      "[CV] END gb__learning_rate=15, gb__max_depth=3, gb__n_estimators=20; total time=   0.0s\n",
      "[CV] END gb__learning_rate=15, gb__max_depth=3, gb__n_estimators=20; total time=   0.0s\n",
      "[CV] END gb__learning_rate=15, gb__max_depth=3, gb__n_estimators=25; total time=   0.0s\n",
      "[CV] END gb__learning_rate=15, gb__max_depth=3, gb__n_estimators=25; total time=   0.0s\n",
      "[CV] END gb__learning_rate=15, gb__max_depth=3, gb__n_estimators=25; total time=   0.0s\n",
      "[CV] END gb__learning_rate=15, gb__max_depth=3, gb__n_estimators=30; total time=   0.0s\n",
      "[CV] END gb__learning_rate=15, gb__max_depth=3, gb__n_estimators=30; total time=   0.0s\n",
      "[CV] END gb__learning_rate=15, gb__max_depth=3, gb__n_estimators=30; total time=   0.0s\n",
      "[CV] END gb__learning_rate=15, gb__max_depth=5, gb__n_estimators=10; total time=   0.0s\n",
      "[CV] END gb__learning_rate=15, gb__max_depth=5, gb__n_estimators=10; total time=   0.0s\n",
      "[CV] END gb__learning_rate=15, gb__max_depth=5, gb__n_estimators=10; total time=   0.0s\n",
      "[CV] END gb__learning_rate=15, gb__max_depth=5, gb__n_estimators=15; total time=   0.0s\n",
      "[CV] END gb__learning_rate=15, gb__max_depth=5, gb__n_estimators=15; total time=   0.0s\n",
      "[CV] END gb__learning_rate=15, gb__max_depth=5, gb__n_estimators=15; total time=   0.0s\n",
      "[CV] END gb__learning_rate=15, gb__max_depth=5, gb__n_estimators=20; total time=   0.0s\n",
      "[CV] END gb__learning_rate=15, gb__max_depth=5, gb__n_estimators=20; total time=   0.0s\n",
      "[CV] END gb__learning_rate=15, gb__max_depth=5, gb__n_estimators=20; total time=   0.0s\n",
      "[CV] END gb__learning_rate=15, gb__max_depth=5, gb__n_estimators=25; total time=   0.0s\n",
      "[CV] END gb__learning_rate=15, gb__max_depth=5, gb__n_estimators=25; total time=   0.0s\n",
      "[CV] END gb__learning_rate=15, gb__max_depth=5, gb__n_estimators=25; total time=   0.0s\n",
      "[CV] END gb__learning_rate=15, gb__max_depth=5, gb__n_estimators=30; total time=   0.0s\n",
      "[CV] END gb__learning_rate=15, gb__max_depth=5, gb__n_estimators=30; total time=   0.0s\n",
      "[CV] END gb__learning_rate=15, gb__max_depth=5, gb__n_estimators=30; total time=   0.0s\n",
      "[CV] END gb__learning_rate=15, gb__max_depth=7, gb__n_estimators=10; total time=   0.0s\n",
      "[CV] END gb__learning_rate=15, gb__max_depth=7, gb__n_estimators=10; total time=   0.0s\n",
      "[CV] END gb__learning_rate=15, gb__max_depth=7, gb__n_estimators=10; total time=   0.0s\n",
      "[CV] END gb__learning_rate=15, gb__max_depth=7, gb__n_estimators=15; total time=   0.0s\n",
      "[CV] END gb__learning_rate=15, gb__max_depth=7, gb__n_estimators=15; total time=   0.0s\n",
      "[CV] END gb__learning_rate=15, gb__max_depth=7, gb__n_estimators=15; total time=   0.0s\n",
      "[CV] END gb__learning_rate=15, gb__max_depth=7, gb__n_estimators=20; total time=   0.0s\n",
      "[CV] END gb__learning_rate=15, gb__max_depth=7, gb__n_estimators=20; total time=   0.0s\n",
      "[CV] END gb__learning_rate=15, gb__max_depth=7, gb__n_estimators=20; total time=   0.0s\n",
      "[CV] END gb__learning_rate=15, gb__max_depth=7, gb__n_estimators=25; total time=   0.0s\n",
      "[CV] END gb__learning_rate=15, gb__max_depth=7, gb__n_estimators=25; total time=   0.0s\n",
      "[CV] END gb__learning_rate=15, gb__max_depth=7, gb__n_estimators=25; total time=   0.0s\n",
      "[CV] END gb__learning_rate=15, gb__max_depth=7, gb__n_estimators=30; total time=   0.0s\n",
      "[CV] END gb__learning_rate=15, gb__max_depth=7, gb__n_estimators=30; total time=   0.0s\n",
      "[CV] END gb__learning_rate=15, gb__max_depth=7, gb__n_estimators=30; total time=   0.0s\n",
      "[CV] END gb__learning_rate=15, gb__max_depth=9, gb__n_estimators=10; total time=   0.0s\n",
      "[CV] END gb__learning_rate=15, gb__max_depth=9, gb__n_estimators=10; total time=   0.0s\n",
      "[CV] END gb__learning_rate=15, gb__max_depth=9, gb__n_estimators=10; total time=   0.0s\n",
      "[CV] END gb__learning_rate=15, gb__max_depth=9, gb__n_estimators=15; total time=   0.0s\n",
      "[CV] END gb__learning_rate=15, gb__max_depth=9, gb__n_estimators=15; total time=   0.0s\n",
      "[CV] END gb__learning_rate=15, gb__max_depth=9, gb__n_estimators=15; total time=   0.0s\n",
      "[CV] END gb__learning_rate=15, gb__max_depth=9, gb__n_estimators=20; total time=   0.0s\n",
      "[CV] END gb__learning_rate=15, gb__max_depth=9, gb__n_estimators=20; total time=   0.0s\n",
      "[CV] END gb__learning_rate=15, gb__max_depth=9, gb__n_estimators=20; total time=   0.0s\n",
      "[CV] END gb__learning_rate=15, gb__max_depth=9, gb__n_estimators=25; total time=   0.0s\n",
      "[CV] END gb__learning_rate=15, gb__max_depth=9, gb__n_estimators=25; total time=   0.0s\n",
      "[CV] END gb__learning_rate=15, gb__max_depth=9, gb__n_estimators=25; total time=   0.0s\n",
      "[CV] END gb__learning_rate=15, gb__max_depth=9, gb__n_estimators=30; total time=   0.0s\n",
      "[CV] END gb__learning_rate=15, gb__max_depth=9, gb__n_estimators=30; total time=   0.0s\n",
      "[CV] END gb__learning_rate=15, gb__max_depth=9, gb__n_estimators=30; total time=   0.0s\n",
      "[CV] END gb__learning_rate=20, gb__max_depth=1, gb__n_estimators=10; total time=   0.0s\n",
      "[CV] END gb__learning_rate=20, gb__max_depth=1, gb__n_estimators=10; total time=   0.0s\n",
      "[CV] END gb__learning_rate=20, gb__max_depth=1, gb__n_estimators=10; total time=   0.0s\n",
      "[CV] END gb__learning_rate=20, gb__max_depth=1, gb__n_estimators=15; total time=   0.0s\n",
      "[CV] END gb__learning_rate=20, gb__max_depth=1, gb__n_estimators=15; total time=   0.0s\n",
      "[CV] END gb__learning_rate=20, gb__max_depth=1, gb__n_estimators=15; total time=   0.0s\n",
      "[CV] END gb__learning_rate=20, gb__max_depth=1, gb__n_estimators=20; total time=   0.0s\n",
      "[CV] END gb__learning_rate=20, gb__max_depth=1, gb__n_estimators=20; total time=   0.0s\n",
      "[CV] END gb__learning_rate=20, gb__max_depth=1, gb__n_estimators=20; total time=   0.0s\n",
      "[CV] END gb__learning_rate=20, gb__max_depth=1, gb__n_estimators=25; total time=   0.0s\n",
      "[CV] END gb__learning_rate=20, gb__max_depth=1, gb__n_estimators=25; total time=   0.0s\n",
      "[CV] END gb__learning_rate=20, gb__max_depth=1, gb__n_estimators=25; total time=   0.0s\n",
      "[CV] END gb__learning_rate=20, gb__max_depth=1, gb__n_estimators=30; total time=   0.0s\n",
      "[CV] END gb__learning_rate=20, gb__max_depth=1, gb__n_estimators=30; total time=   0.0s\n",
      "[CV] END gb__learning_rate=20, gb__max_depth=1, gb__n_estimators=30; total time=   0.0s\n",
      "[CV] END gb__learning_rate=20, gb__max_depth=3, gb__n_estimators=10; total time=   0.0s\n",
      "[CV] END gb__learning_rate=20, gb__max_depth=3, gb__n_estimators=10; total time=   0.0s\n",
      "[CV] END gb__learning_rate=20, gb__max_depth=3, gb__n_estimators=10; total time=   0.0s\n",
      "[CV] END gb__learning_rate=20, gb__max_depth=3, gb__n_estimators=15; total time=   0.0s\n",
      "[CV] END gb__learning_rate=20, gb__max_depth=3, gb__n_estimators=15; total time=   0.0s\n",
      "[CV] END gb__learning_rate=20, gb__max_depth=3, gb__n_estimators=15; total time=   0.0s\n",
      "[CV] END gb__learning_rate=20, gb__max_depth=3, gb__n_estimators=20; total time=   0.0s\n",
      "[CV] END gb__learning_rate=20, gb__max_depth=3, gb__n_estimators=20; total time=   0.0s\n",
      "[CV] END gb__learning_rate=20, gb__max_depth=3, gb__n_estimators=20; total time=   0.0s\n",
      "[CV] END gb__learning_rate=20, gb__max_depth=3, gb__n_estimators=25; total time=   0.0s\n",
      "[CV] END gb__learning_rate=20, gb__max_depth=3, gb__n_estimators=25; total time=   0.0s\n",
      "[CV] END gb__learning_rate=20, gb__max_depth=3, gb__n_estimators=25; total time=   0.0s\n",
      "[CV] END gb__learning_rate=20, gb__max_depth=3, gb__n_estimators=30; total time=   0.0s\n",
      "[CV] END gb__learning_rate=20, gb__max_depth=3, gb__n_estimators=30; total time=   0.0s\n",
      "[CV] END gb__learning_rate=20, gb__max_depth=3, gb__n_estimators=30; total time=   0.0s\n",
      "[CV] END gb__learning_rate=20, gb__max_depth=5, gb__n_estimators=10; total time=   0.0s\n",
      "[CV] END gb__learning_rate=20, gb__max_depth=5, gb__n_estimators=10; total time=   0.0s\n",
      "[CV] END gb__learning_rate=20, gb__max_depth=5, gb__n_estimators=10; total time=   0.0s\n",
      "[CV] END gb__learning_rate=20, gb__max_depth=5, gb__n_estimators=15; total time=   0.0s\n",
      "[CV] END gb__learning_rate=20, gb__max_depth=5, gb__n_estimators=15; total time=   0.0s\n",
      "[CV] END gb__learning_rate=20, gb__max_depth=5, gb__n_estimators=15; total time=   0.0s\n",
      "[CV] END gb__learning_rate=20, gb__max_depth=5, gb__n_estimators=20; total time=   0.0s\n",
      "[CV] END gb__learning_rate=20, gb__max_depth=5, gb__n_estimators=20; total time=   0.0s\n",
      "[CV] END gb__learning_rate=20, gb__max_depth=5, gb__n_estimators=20; total time=   0.0s\n",
      "[CV] END gb__learning_rate=20, gb__max_depth=5, gb__n_estimators=25; total time=   0.0s\n",
      "[CV] END gb__learning_rate=20, gb__max_depth=5, gb__n_estimators=25; total time=   0.0s\n",
      "[CV] END gb__learning_rate=20, gb__max_depth=5, gb__n_estimators=25; total time=   0.0s\n",
      "[CV] END gb__learning_rate=20, gb__max_depth=5, gb__n_estimators=30; total time=   0.0s\n",
      "[CV] END gb__learning_rate=20, gb__max_depth=5, gb__n_estimators=30; total time=   0.0s\n",
      "[CV] END gb__learning_rate=20, gb__max_depth=5, gb__n_estimators=30; total time=   0.0s\n",
      "[CV] END gb__learning_rate=20, gb__max_depth=7, gb__n_estimators=10; total time=   0.0s\n",
      "[CV] END gb__learning_rate=20, gb__max_depth=7, gb__n_estimators=10; total time=   0.0s\n",
      "[CV] END gb__learning_rate=20, gb__max_depth=7, gb__n_estimators=10; total time=   0.0s\n",
      "[CV] END gb__learning_rate=20, gb__max_depth=7, gb__n_estimators=15; total time=   0.0s\n",
      "[CV] END gb__learning_rate=20, gb__max_depth=7, gb__n_estimators=15; total time=   0.0s\n",
      "[CV] END gb__learning_rate=20, gb__max_depth=7, gb__n_estimators=15; total time=   0.0s\n",
      "[CV] END gb__learning_rate=20, gb__max_depth=7, gb__n_estimators=20; total time=   0.0s\n",
      "[CV] END gb__learning_rate=20, gb__max_depth=7, gb__n_estimators=20; total time=   0.0s\n",
      "[CV] END gb__learning_rate=20, gb__max_depth=7, gb__n_estimators=20; total time=   0.0s\n",
      "[CV] END gb__learning_rate=20, gb__max_depth=7, gb__n_estimators=25; total time=   0.0s\n",
      "[CV] END gb__learning_rate=20, gb__max_depth=7, gb__n_estimators=25; total time=   0.0s\n",
      "[CV] END gb__learning_rate=20, gb__max_depth=7, gb__n_estimators=25; total time=   0.0s\n",
      "[CV] END gb__learning_rate=20, gb__max_depth=7, gb__n_estimators=30; total time=   0.0s\n",
      "[CV] END gb__learning_rate=20, gb__max_depth=7, gb__n_estimators=30; total time=   0.0s\n",
      "[CV] END gb__learning_rate=20, gb__max_depth=7, gb__n_estimators=30; total time=   0.0s\n",
      "[CV] END gb__learning_rate=20, gb__max_depth=9, gb__n_estimators=10; total time=   0.0s\n",
      "[CV] END gb__learning_rate=20, gb__max_depth=9, gb__n_estimators=10; total time=   0.0s\n",
      "[CV] END gb__learning_rate=20, gb__max_depth=9, gb__n_estimators=10; total time=   0.0s\n",
      "[CV] END gb__learning_rate=20, gb__max_depth=9, gb__n_estimators=15; total time=   0.0s\n",
      "[CV] END gb__learning_rate=20, gb__max_depth=9, gb__n_estimators=15; total time=   0.0s\n",
      "[CV] END gb__learning_rate=20, gb__max_depth=9, gb__n_estimators=15; total time=   0.0s\n",
      "[CV] END gb__learning_rate=20, gb__max_depth=9, gb__n_estimators=20; total time=   0.0s\n",
      "[CV] END gb__learning_rate=20, gb__max_depth=9, gb__n_estimators=20; total time=   0.0s\n",
      "[CV] END gb__learning_rate=20, gb__max_depth=9, gb__n_estimators=20; total time=   0.0s\n",
      "[CV] END gb__learning_rate=20, gb__max_depth=9, gb__n_estimators=25; total time=   0.0s\n",
      "[CV] END gb__learning_rate=20, gb__max_depth=9, gb__n_estimators=25; total time=   0.0s\n",
      "[CV] END gb__learning_rate=20, gb__max_depth=9, gb__n_estimators=25; total time=   0.0s\n",
      "[CV] END gb__learning_rate=20, gb__max_depth=9, gb__n_estimators=30; total time=   0.0s\n",
      "[CV] END gb__learning_rate=20, gb__max_depth=9, gb__n_estimators=30; total time=   0.0s\n",
      "[CV] END gb__learning_rate=20, gb__max_depth=9, gb__n_estimators=30; total time=   0.0s\n",
      "[CV] END gb__learning_rate=25, gb__max_depth=1, gb__n_estimators=10; total time=   0.0s\n",
      "[CV] END gb__learning_rate=25, gb__max_depth=1, gb__n_estimators=10; total time=   0.0s\n",
      "[CV] END gb__learning_rate=25, gb__max_depth=1, gb__n_estimators=10; total time=   0.0s\n",
      "[CV] END gb__learning_rate=25, gb__max_depth=1, gb__n_estimators=15; total time=   0.0s\n",
      "[CV] END gb__learning_rate=25, gb__max_depth=1, gb__n_estimators=15; total time=   0.0s\n",
      "[CV] END gb__learning_rate=25, gb__max_depth=1, gb__n_estimators=15; total time=   0.0s\n",
      "[CV] END gb__learning_rate=25, gb__max_depth=1, gb__n_estimators=20; total time=   0.0s\n",
      "[CV] END gb__learning_rate=25, gb__max_depth=1, gb__n_estimators=20; total time=   0.0s\n",
      "[CV] END gb__learning_rate=25, gb__max_depth=1, gb__n_estimators=20; total time=   0.0s\n",
      "[CV] END gb__learning_rate=25, gb__max_depth=1, gb__n_estimators=25; total time=   0.0s\n",
      "[CV] END gb__learning_rate=25, gb__max_depth=1, gb__n_estimators=25; total time=   0.0s\n",
      "[CV] END gb__learning_rate=25, gb__max_depth=1, gb__n_estimators=25; total time=   0.0s\n",
      "[CV] END gb__learning_rate=25, gb__max_depth=1, gb__n_estimators=30; total time=   0.0s\n",
      "[CV] END gb__learning_rate=25, gb__max_depth=1, gb__n_estimators=30; total time=   0.0s\n",
      "[CV] END gb__learning_rate=25, gb__max_depth=1, gb__n_estimators=30; total time=   0.0s\n",
      "[CV] END gb__learning_rate=25, gb__max_depth=3, gb__n_estimators=10; total time=   0.0s\n",
      "[CV] END gb__learning_rate=25, gb__max_depth=3, gb__n_estimators=10; total time=   0.0s\n",
      "[CV] END gb__learning_rate=25, gb__max_depth=3, gb__n_estimators=10; total time=   0.0s\n",
      "[CV] END gb__learning_rate=25, gb__max_depth=3, gb__n_estimators=15; total time=   0.0s\n",
      "[CV] END gb__learning_rate=25, gb__max_depth=3, gb__n_estimators=15; total time=   0.0s\n",
      "[CV] END gb__learning_rate=25, gb__max_depth=3, gb__n_estimators=15; total time=   0.0s\n",
      "[CV] END gb__learning_rate=25, gb__max_depth=3, gb__n_estimators=20; total time=   0.0s\n",
      "[CV] END gb__learning_rate=25, gb__max_depth=3, gb__n_estimators=20; total time=   0.0s\n",
      "[CV] END gb__learning_rate=25, gb__max_depth=3, gb__n_estimators=20; total time=   0.0s\n",
      "[CV] END gb__learning_rate=25, gb__max_depth=3, gb__n_estimators=25; total time=   0.0s\n",
      "[CV] END gb__learning_rate=25, gb__max_depth=3, gb__n_estimators=25; total time=   0.0s\n",
      "[CV] END gb__learning_rate=25, gb__max_depth=3, gb__n_estimators=25; total time=   0.0s\n",
      "[CV] END gb__learning_rate=25, gb__max_depth=3, gb__n_estimators=30; total time=   0.0s\n",
      "[CV] END gb__learning_rate=25, gb__max_depth=3, gb__n_estimators=30; total time=   0.0s\n",
      "[CV] END gb__learning_rate=25, gb__max_depth=3, gb__n_estimators=30; total time=   0.0s\n",
      "[CV] END gb__learning_rate=25, gb__max_depth=5, gb__n_estimators=10; total time=   0.0s\n",
      "[CV] END gb__learning_rate=25, gb__max_depth=5, gb__n_estimators=10; total time=   0.0s\n",
      "[CV] END gb__learning_rate=25, gb__max_depth=5, gb__n_estimators=10; total time=   0.0s\n",
      "[CV] END gb__learning_rate=25, gb__max_depth=5, gb__n_estimators=15; total time=   0.0s\n",
      "[CV] END gb__learning_rate=25, gb__max_depth=5, gb__n_estimators=15; total time=   0.0s\n",
      "[CV] END gb__learning_rate=25, gb__max_depth=5, gb__n_estimators=15; total time=   0.0s\n",
      "[CV] END gb__learning_rate=25, gb__max_depth=5, gb__n_estimators=20; total time=   0.0s\n",
      "[CV] END gb__learning_rate=25, gb__max_depth=5, gb__n_estimators=20; total time=   0.0s\n",
      "[CV] END gb__learning_rate=25, gb__max_depth=5, gb__n_estimators=20; total time=   0.0s\n",
      "[CV] END gb__learning_rate=25, gb__max_depth=5, gb__n_estimators=25; total time=   0.0s\n",
      "[CV] END gb__learning_rate=25, gb__max_depth=5, gb__n_estimators=25; total time=   0.0s\n",
      "[CV] END gb__learning_rate=25, gb__max_depth=5, gb__n_estimators=25; total time=   0.0s\n",
      "[CV] END gb__learning_rate=25, gb__max_depth=5, gb__n_estimators=30; total time=   0.0s\n",
      "[CV] END gb__learning_rate=25, gb__max_depth=5, gb__n_estimators=30; total time=   0.0s\n",
      "[CV] END gb__learning_rate=25, gb__max_depth=5, gb__n_estimators=30; total time=   0.0s\n",
      "[CV] END gb__learning_rate=25, gb__max_depth=7, gb__n_estimators=10; total time=   0.0s\n",
      "[CV] END gb__learning_rate=25, gb__max_depth=7, gb__n_estimators=10; total time=   0.0s\n",
      "[CV] END gb__learning_rate=25, gb__max_depth=7, gb__n_estimators=10; total time=   0.0s\n",
      "[CV] END gb__learning_rate=25, gb__max_depth=7, gb__n_estimators=15; total time=   0.0s\n",
      "[CV] END gb__learning_rate=25, gb__max_depth=7, gb__n_estimators=15; total time=   0.0s\n",
      "[CV] END gb__learning_rate=25, gb__max_depth=7, gb__n_estimators=15; total time=   0.0s\n",
      "[CV] END gb__learning_rate=25, gb__max_depth=7, gb__n_estimators=20; total time=   0.0s\n",
      "[CV] END gb__learning_rate=25, gb__max_depth=7, gb__n_estimators=20; total time=   0.0s\n",
      "[CV] END gb__learning_rate=25, gb__max_depth=7, gb__n_estimators=20; total time=   0.0s\n",
      "[CV] END gb__learning_rate=25, gb__max_depth=7, gb__n_estimators=25; total time=   0.0s\n",
      "[CV] END gb__learning_rate=25, gb__max_depth=7, gb__n_estimators=25; total time=   0.0s\n",
      "[CV] END gb__learning_rate=25, gb__max_depth=7, gb__n_estimators=25; total time=   0.0s\n",
      "[CV] END gb__learning_rate=25, gb__max_depth=7, gb__n_estimators=30; total time=   0.0s\n",
      "[CV] END gb__learning_rate=25, gb__max_depth=7, gb__n_estimators=30; total time=   0.0s\n",
      "[CV] END gb__learning_rate=25, gb__max_depth=7, gb__n_estimators=30; total time=   0.0s\n",
      "[CV] END gb__learning_rate=25, gb__max_depth=9, gb__n_estimators=10; total time=   0.0s\n",
      "[CV] END gb__learning_rate=25, gb__max_depth=9, gb__n_estimators=10; total time=   0.0s\n",
      "[CV] END gb__learning_rate=25, gb__max_depth=9, gb__n_estimators=10; total time=   0.0s\n",
      "[CV] END gb__learning_rate=25, gb__max_depth=9, gb__n_estimators=15; total time=   0.0s\n",
      "[CV] END gb__learning_rate=25, gb__max_depth=9, gb__n_estimators=15; total time=   0.0s\n",
      "[CV] END gb__learning_rate=25, gb__max_depth=9, gb__n_estimators=15; total time=   0.0s\n",
      "[CV] END gb__learning_rate=25, gb__max_depth=9, gb__n_estimators=20; total time=   0.0s\n",
      "[CV] END gb__learning_rate=25, gb__max_depth=9, gb__n_estimators=20; total time=   0.0s\n",
      "[CV] END gb__learning_rate=25, gb__max_depth=9, gb__n_estimators=20; total time=   0.0s\n",
      "[CV] END gb__learning_rate=25, gb__max_depth=9, gb__n_estimators=25; total time=   0.0s\n",
      "[CV] END gb__learning_rate=25, gb__max_depth=9, gb__n_estimators=25; total time=   0.0s\n",
      "[CV] END gb__learning_rate=25, gb__max_depth=9, gb__n_estimators=25; total time=   0.0s\n",
      "[CV] END gb__learning_rate=25, gb__max_depth=9, gb__n_estimators=30; total time=   0.0s\n",
      "[CV] END gb__learning_rate=25, gb__max_depth=9, gb__n_estimators=30; total time=   0.0s\n",
      "[CV] END gb__learning_rate=25, gb__max_depth=9, gb__n_estimators=30; total time=   0.0s\n",
      "Fitting 3 folds for each of 9 candidates, totalling 27 fits\n",
      "[CV] END ........ada__learning_rate=0.1, ada__n_estimators=2; total time=   0.0s\n",
      "[CV] END ........ada__learning_rate=0.1, ada__n_estimators=2; total time=   0.0s\n",
      "[CV] END ........ada__learning_rate=0.1, ada__n_estimators=2; total time=   0.0s\n",
      "[CV] END ........ada__learning_rate=0.2, ada__n_estimators=2; total time=   0.0s\n",
      "[CV] END ........ada__learning_rate=0.2, ada__n_estimators=2; total time=   0.0s\n",
      "[CV] END ........ada__learning_rate=0.2, ada__n_estimators=2; total time=   0.0s\n",
      "[CV] END ada__learning_rate=0.30000000000000004, ada__n_estimators=2; total time=   0.0s\n",
      "[CV] END ada__learning_rate=0.30000000000000004, ada__n_estimators=2; total time=   0.0s\n",
      "[CV] END ada__learning_rate=0.30000000000000004, ada__n_estimators=2; total time=   0.0s\n",
      "[CV] END ........ada__learning_rate=0.4, ada__n_estimators=2; total time=   0.0s\n",
      "[CV] END ........ada__learning_rate=0.4, ada__n_estimators=2; total time=   0.0s\n",
      "[CV] END ........ada__learning_rate=0.4, ada__n_estimators=2; total time=   0.0s\n",
      "[CV] END ........ada__learning_rate=0.5, ada__n_estimators=2; total time=   0.0s\n",
      "[CV] END ........ada__learning_rate=0.5, ada__n_estimators=2; total time=   0.0s\n",
      "[CV] END ........ada__learning_rate=0.5, ada__n_estimators=2; total time=   0.0s\n",
      "[CV] END ........ada__learning_rate=0.6, ada__n_estimators=2; total time=   0.0s\n",
      "[CV] END ........ada__learning_rate=0.6, ada__n_estimators=2; total time=   0.0s\n",
      "[CV] END ........ada__learning_rate=0.6, ada__n_estimators=2; total time=   0.0s\n",
      "[CV] END ada__learning_rate=0.7000000000000001, ada__n_estimators=2; total time=   0.0s\n",
      "[CV] END ada__learning_rate=0.7000000000000001, ada__n_estimators=2; total time=   0.0s\n",
      "[CV] END ada__learning_rate=0.7000000000000001, ada__n_estimators=2; total time=   0.0s\n",
      "[CV] END ........ada__learning_rate=0.8, ada__n_estimators=2; total time=   0.0s\n",
      "[CV] END ........ada__learning_rate=0.8, ada__n_estimators=2; total time=   0.0s\n",
      "[CV] END ........ada__learning_rate=0.8, ada__n_estimators=2; total time=   0.0s\n",
      "[CV] END ........ada__learning_rate=0.9, ada__n_estimators=2; total time=   0.0s\n",
      "[CV] END ........ada__learning_rate=0.9, ada__n_estimators=2; total time=   0.0s\n",
      "[CV] END ........ada__learning_rate=0.9, ada__n_estimators=2; total time=   0.0s\n"
     ]
    }
   ],
   "source": [
    "best_params = {}\n",
    "best_scores = {}\n",
    "# Grid Searching each classifier\n",
    "for name, vals in tqdm(Models_Parameters.items()):\n",
    "    \n",
    "    # Grid Searching \n",
    "    gs = GridSearchCV(vals[0], vals[1], cv=tscv, return_train_score=True, verbose=2, scoring='accuracy')\n",
    "    gs.fit(X, y)\n",
    "    \n",
    "    # Saving the best estimators/tuned models\n",
    "    best_params[name+'_clf'] = gs.best_params_\n",
    "    best_scores[name] = gs.best_score_"
   ]
  },
  {
   "cell_type": "code",
   "execution_count": 113,
   "metadata": {},
   "outputs": [
    {
     "data": {
      "text/plain": [
       "{'DecisionTree': 0.5714285714285714,\n",
       " 'KNearest': 0.5119047619047619,\n",
       " 'NaiveBayes': 0.5297619047619048,\n",
       " 'GradientBoost': 0.5952380952380952,\n",
       " 'AdaBoost': 0.5357142857142857}"
      ]
     },
     "execution_count": 113,
     "metadata": {},
     "output_type": "execute_result"
    }
   ],
   "source": [
    "best_scores"
   ]
  },
  {
   "cell_type": "code",
   "execution_count": 114,
   "metadata": {},
   "outputs": [
    {
     "data": {
      "text/plain": [
       "{'DecisionTree_clf': {'dt__max_depth': 5, 'dt__min_samples_split': 3},\n",
       " 'KNearest_clf': {'knn__n_neighbors': 20},\n",
       " 'NaiveBayes_clf': {'nb__var_smoothing': 0.001},\n",
       " 'GradientBoost_clf': {'gb__learning_rate': 10,\n",
       "  'gb__max_depth': 5,\n",
       "  'gb__n_estimators': 25},\n",
       " 'AdaBoost_clf': {'ada__learning_rate': 0.5, 'ada__n_estimators': 2}}"
      ]
     },
     "execution_count": 114,
     "metadata": {},
     "output_type": "execute_result"
    }
   ],
   "source": [
    "best_params"
   ]
  },
  {
   "cell_type": "code",
   "execution_count": 115,
   "metadata": {},
   "outputs": [],
   "source": [
    "# Updating Pipelines for Stacking/Vis\n",
    "dt_pipeline = Pipeline([('scaler', MinMaxScaler()),('dt', DecisionTreeClassifier(max_depth = 5, min_samples_split = 3))])\n",
    "nb_pipeline = Pipeline([('scaler', MinMaxScaler()), ('nb', GaussianNB(var_smoothing = 0.001))])\n",
    "knn_pipeline = Pipeline([('scaler', MinMaxScaler()), ('knn', KNeighborsClassifier(n_neighbors = 20))])\n",
    "gb_pipeline = Pipeline([('scaler', MinMaxScaler()), ('gb', GradientBoostingClassifier(learning_rate = 5, max_depth = 5, n_estimators = 20))])\n",
    "ada_pipeline = Pipeline([('scaler', MinMaxScaler()), ('ada', AdaBoostClassifier(learning_rate = 0.5, n_estimators = 2))])\n",
    "bestModels = [dt_pipeline,nb_pipeline, knn_pipeline, gb_pipeline, ada_pipeline]"
   ]
  },
  {
   "cell_type": "code",
   "execution_count": 116,
   "metadata": {},
   "outputs": [
    {
     "name": "stdout",
     "output_type": "stream",
     "text": [
      "0.5535714285714286\n"
     ]
    },
    {
     "data": {
      "text/plain": [
       "<sklearn.metrics._plot.confusion_matrix.ConfusionMatrixDisplay at 0x223ea7e09a0>"
      ]
     },
     "execution_count": 116,
     "metadata": {},
     "output_type": "execute_result"
    },
    {
     "data": {
      "image/png": "[encoded data removed]",
      "text/plain": [
       "<Figure size 640x480 with 2 Axes>"
      ]
     },
     "metadata": {},
     "output_type": "display_data"
    }
   ],
   "source": [
    "dt_pipeline.fit(Train3x, Train3y)\n",
    "dtpredBest = dt_pipeline.predict(Test3x)\n",
    "cmNBBest = confusion_matrix(Test3y, dtpredBest)\n",
    "print(accuracy_score(Test3y, dtpredBest))\n",
    "ConfusionMatrixDisplay(confusion_matrix= cmNBBest).plot()"
   ]
  },
  {
   "cell_type": "code",
   "execution_count": 117,
   "metadata": {},
   "outputs": [
    {
     "data": {
      "text/plain": [
       "<sklearn.metrics._plot.confusion_matrix.ConfusionMatrixDisplay at 0x223e62eb3d0>"
      ]
     },
     "execution_count": 117,
     "metadata": {},
     "output_type": "execute_result"
    },
    {
     "data": {
      "image/png": "[encoded data removed]",
      "text/plain": [
       "<Figure size 640x480 with 2 Axes>"
      ]
     },
     "metadata": {},
     "output_type": "display_data"
    }
   ],
   "source": [
    "nb_pipeline.fit(Train3x, Train3y)\n",
    "nbpredBest = nb_pipeline.predict(Test3x)\n",
    "cmNBBest = confusion_matrix(Test3y, nbpredBest)\n",
    "accuracy_score(Test3y, nbpredBest)\n",
    "ConfusionMatrixDisplay(confusion_matrix= cmNBBest).plot()"
   ]
  },
  {
   "cell_type": "code",
   "execution_count": 118,
   "metadata": {},
   "outputs": [
    {
     "name": "stdout",
     "output_type": "stream",
     "text": [
      "0.5357142857142857\n"
     ]
    },
    {
     "data": {
      "text/plain": [
       "<sklearn.metrics._plot.confusion_matrix.ConfusionMatrixDisplay at 0x223f660ebe0>"
      ]
     },
     "execution_count": 118,
     "metadata": {},
     "output_type": "execute_result"
    },
    {
     "data": {
      "image/png": "[encoded data removed]",
      "text/plain": [
       "<Figure size 640x480 with 2 Axes>"
      ]
     },
     "metadata": {},
     "output_type": "display_data"
    }
   ],
   "source": [
    "knn_pipeline.fit(Train3x, Train3y)\n",
    "knnpredBest = knn_pipeline.predict(Test3x)\n",
    "cmknnBest = confusion_matrix(Test3y, knnpredBest)\n",
    "print(accuracy_score(Test3y, nbpredBest))\n",
    "ConfusionMatrixDisplay(confusion_matrix= cmknnBest).plot()"
   ]
  },
  {
   "cell_type": "code",
   "execution_count": 119,
   "metadata": {},
   "outputs": [
    {
     "name": "stdout",
     "output_type": "stream",
     "text": [
      "0.6785714285714286\n"
     ]
    },
    {
     "data": {
      "text/plain": [
       "<sklearn.metrics._plot.confusion_matrix.ConfusionMatrixDisplay at 0x223e2e1f100>"
      ]
     },
     "execution_count": 119,
     "metadata": {},
     "output_type": "execute_result"
    },
    {
     "data": {
      "image/png": "[encoded data removed]",
      "text/plain": [
       "<Figure size 640x480 with 2 Axes>"
      ]
     },
     "metadata": {},
     "output_type": "display_data"
    }
   ],
   "source": [
    "gb_pipeline.fit(Train3x, Train3y)\n",
    "gbpredBest = gb_pipeline.predict(Test3x)\n",
    "cmGBBest = confusion_matrix(Test3y, gbpredBest)\n",
    "print(accuracy_score(Test3y, gbpredBest))\n",
    "ConfusionMatrixDisplay(confusion_matrix= cmGBBest).plot()"
   ]
  },
  {
   "cell_type": "code",
   "execution_count": 120,
   "metadata": {},
   "outputs": [
    {
     "name": "stdout",
     "output_type": "stream",
     "text": [
      "0.5178571428571429\n"
     ]
    },
    {
     "data": {
      "text/plain": [
       "<sklearn.metrics._plot.confusion_matrix.ConfusionMatrixDisplay at 0x223e646d520>"
      ]
     },
     "execution_count": 120,
     "metadata": {},
     "output_type": "execute_result"
    },
    {
     "data": {
      "image/png": "[encoded data removed]",
      "text/plain": [
       "<Figure size 640x480 with 2 Axes>"
      ]
     },
     "metadata": {},
     "output_type": "display_data"
    }
   ],
   "source": [
    "ada_pipeline.fit(Train3x, Train3y)\n",
    "adapredBest = ada_pipeline.predict(Test3x)\n",
    "cmadaBest = confusion_matrix(Test3y, adapredBest)\n",
    "print(accuracy_score(Test3y, adapredBest))\n",
    "ConfusionMatrixDisplay(confusion_matrix= cmadaBest).plot()"
   ]
  },
  {
   "attachments": {},
   "cell_type": "markdown",
   "metadata": {},
   "source": [
    "### Stacking the Models for Improved Results"
   ]
  },
  {
   "attachments": {},
   "cell_type": "markdown",
   "metadata": {},
   "source": [
    "We can't stack these time series models with Sklearn's Stacking Classifier, but we can aggregate the data from each of their predictions, and consider a date where the majority of the classifiers said it would be up to be predict as up in our final model, and vice versa."
   ]
  },
  {
   "cell_type": "code",
   "execution_count": 123,
   "metadata": {},
   "outputs": [
    {
     "data": {
      "text/html": [
       "<div>\n",
       "<style scoped>\n",
       "    .dataframe tbody tr th:only-of-type {\n",
       "        vertical-align: middle;\n",
       "    }\n",
       "\n",
       "    .dataframe tbody tr th {\n",
       "        vertical-align: top;\n",
       "    }\n",
       "\n",
       "    .dataframe thead th {\n",
       "        text-align: right;\n",
       "    }\n",
       "</style>\n",
       "<table border=\"1\" class=\"dataframe\">\n",
       "  <thead>\n",
       "    <tr style=\"text-align: right;\">\n",
       "      <th></th>\n",
       "      <th>DT</th>\n",
       "      <th>NB</th>\n",
       "      <th>KNN</th>\n",
       "      <th>GB</th>\n",
       "      <th>ADA</th>\n",
       "      <th>final_prediction</th>\n",
       "    </tr>\n",
       "    <tr>\n",
       "      <th>Date</th>\n",
       "      <th></th>\n",
       "      <th></th>\n",
       "      <th></th>\n",
       "      <th></th>\n",
       "      <th></th>\n",
       "      <th></th>\n",
       "    </tr>\n",
       "  </thead>\n",
       "  <tbody>\n",
       "    <tr>\n",
       "      <th>2023-01-10</th>\n",
       "      <td>1</td>\n",
       "      <td>1</td>\n",
       "      <td>1</td>\n",
       "      <td>1</td>\n",
       "      <td>1</td>\n",
       "      <td>1</td>\n",
       "    </tr>\n",
       "    <tr>\n",
       "      <th>2023-01-11</th>\n",
       "      <td>0</td>\n",
       "      <td>0</td>\n",
       "      <td>0</td>\n",
       "      <td>1</td>\n",
       "      <td>1</td>\n",
       "      <td>0</td>\n",
       "    </tr>\n",
       "    <tr>\n",
       "      <th>2023-01-12</th>\n",
       "      <td>0</td>\n",
       "      <td>0</td>\n",
       "      <td>0</td>\n",
       "      <td>1</td>\n",
       "      <td>1</td>\n",
       "      <td>0</td>\n",
       "    </tr>\n",
       "    <tr>\n",
       "      <th>2023-01-13</th>\n",
       "      <td>1</td>\n",
       "      <td>1</td>\n",
       "      <td>1</td>\n",
       "      <td>1</td>\n",
       "      <td>1</td>\n",
       "      <td>1</td>\n",
       "    </tr>\n",
       "    <tr>\n",
       "      <th>2023-01-17</th>\n",
       "      <td>0</td>\n",
       "      <td>1</td>\n",
       "      <td>1</td>\n",
       "      <td>0</td>\n",
       "      <td>1</td>\n",
       "      <td>1</td>\n",
       "    </tr>\n",
       "  </tbody>\n",
       "</table>\n",
       "</div>"
      ],
      "text/plain": [
       "            DT  NB  KNN  GB  ADA  final_prediction\n",
       "Date                                              \n",
       "2023-01-10   1   1    1   1    1                 1\n",
       "2023-01-11   0   0    0   1    1                 0\n",
       "2023-01-12   0   0    0   1    1                 0\n",
       "2023-01-13   1   1    1   1    1                 1\n",
       "2023-01-17   0   1    1   0    1                 1"
      ]
     },
     "execution_count": 123,
     "metadata": {},
     "output_type": "execute_result"
    }
   ],
   "source": [
    "# Let's make a pandas dataframe with all 5 of the Y Predictions in our model\n",
    "allPredsDict = {'DT': dtpredBest, 'NB': nbpredBest, 'KNN': knnpredBest, 'GB': gbpredBest, 'ADA': adapredBest}\n",
    "allPredsDF = pd.DataFrame(allPredsDict).set_index(Test3y.index)\n",
    "allPredsDF['Agg_Score'] = (allPredsDF['DT'] + allPredsDF['NB'] + allPredsDF['KNN'] + allPredsDF['GB'] + allPredsDF['ADA']) / 5\n",
    "allPredsDF['final_prediction'] = allPredsDF['Agg_Score'].apply(lambda x: 1 if x > 0.5 else 0)\n",
    "allPredsDF.drop('Agg_Score', axis = 1, inplace = True)\n",
    "allPredsDF.head()"
   ]
  },
  {
   "cell_type": "code",
   "execution_count": 125,
   "metadata": {},
   "outputs": [
    {
     "data": {
      "text/plain": [
       "0.5714285714285714"
      ]
     },
     "execution_count": 125,
     "metadata": {},
     "output_type": "execute_result"
    }
   ],
   "source": [
    "# Checking our accuracy of the stacked model\n",
    "FinalPreds = allPredsDF['final_prediction']\n",
    "accuracy_score(Test3y, FinalPreds)"
   ]
  },
  {
   "attachments": {},
   "cell_type": "markdown",
   "metadata": {},
   "source": [
    "## Evaluation"
   ]
  },
  {
   "attachments": {},
   "cell_type": "markdown",
   "metadata": {},
   "source": [
    "##### Although our accuracy did decrease compared to our lone gradient boost model, this one is much more rigourus and should perform much better on unseen data, so we will use this one."
   ]
  }
 ],
 "metadata": {
  "kernelspec": {
   "display_name": "learn-env",
   "language": "python",
   "name": "python3"
  },
  "language_info": {
   "codemirror_mode": {
    "name": "ipython",
    "version": 3
   },
   "file_extension": ".py",
   "mimetype": "text/x-python",
   "name": "python",
   "nbconvert_exporter": "python",
   "pygments_lexer": "ipython3",
   "version": "3.8.1"
  },
  "orig_nbformat": 4
 },
 "nbformat": 4,
 "nbformat_minor": 2
}
