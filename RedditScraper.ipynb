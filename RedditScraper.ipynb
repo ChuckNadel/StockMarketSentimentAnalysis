{
 "cells": [
  {
   "cell_type": "code",
   "execution_count": 9,
   "metadata": {},
   "outputs": [],
   "source": [
    "import praw\n",
    "import pandas as pd\n",
    "from tqdm.notebook import tqdm\n",
    "import csv"
   ]
  },
  {
   "cell_type": "code",
   "execution_count": 10,
   "metadata": {},
   "outputs": [],
   "source": [
    "reddit_read_only = praw.Reddit(client_id=\"Xk6MOATQLAGWlAQTKlqlsg\",         # your client id\n",
    "                               client_secret=\"ZxgNDOoXcsc-4LTQsS_MDSSJM1mKHA\",      # your client secret\n",
    "                               user_agent=\"Pytn Rawr\")        # your user agent\n",
    " "
   ]
  },
  {
   "cell_type": "code",
   "execution_count": 11,
   "metadata": {},
   "outputs": [
    {
     "data": {
      "application/vnd.jupyter.widget-view+json": {
       "model_id": "6ac69370e21145f4ac370ab72ef6a2ba",
       "version_major": 2,
       "version_minor": 0
      },
      "text/plain": [
       "0it [00:00, ?it/s]"
      ]
     },
     "metadata": {},
     "output_type": "display_data"
    },
    {
     "name": "stdout",
     "output_type": "stream",
     "text": [
      "Scrape done\n"
     ]
    }
   ],
   "source": [
    "subreddit = reddit_read_only.subreddit(\"Stocks\")\n",
    "\n",
    "r_Stocks_post_dict = {\n",
    "    \"title\" : [],   #title of the post\n",
    "    \"url\" : [],     #url of the post\n",
    "    \"id\" : [],      # unique id of the post\n",
    "    \"comms_num\": [],   #the number of comments on the post\n",
    "    \"created\" : [],  #timestamp of the post\n",
    "    \"body\" : []         # the description of post\n",
    "        }\n",
    "r_Stocks_comments_dict = {\n",
    "        \"comment_id\" : [],      #unique comm id\n",
    "        \"comment_parent_id\" : [],   # comment parent id\n",
    "        \"comment_body\" : [],   # text in comment\n",
    "        \"comment_link_id\" : [],  #link to the comment\n",
    "        \"comment_score\": [], # Score of the comment\n",
    "        \"comment_time\": [] # Time of comment\n",
    "    }\n",
    "for submission in tqdm(subreddit.search(query = \"'r/Stocks Daily' author: AutoModerator\", limit = 720, sort = 'new')):\n",
    "        r_Stocks_post_dict[\"title\"].append(submission.title)\n",
    "        r_Stocks_post_dict[\"url\"].append(submission.url)\n",
    "        r_Stocks_post_dict[\"id\"].append(submission.id)\n",
    "        r_Stocks_post_dict[\"comms_num\"].append(submission.num_comments)\n",
    "        r_Stocks_post_dict[\"created\"].append(submission.created)\n",
    "        r_Stocks_post_dict[\"body\"].append(submission.selftext)\n",
    "            \n",
    "    ##### Acessing comments on the post\n",
    "        submission.comments.replace_more(limit = 10)\n",
    "        for comment in submission.comments.list():\n",
    "            r_Stocks_comments_dict[\"comment_id\"].append(comment.id)\n",
    "            r_Stocks_comments_dict[\"comment_parent_id\"].append(comment.parent_id)\n",
    "            r_Stocks_comments_dict[\"comment_body\"].append(comment.body)\n",
    "            r_Stocks_comments_dict[\"comment_link_id\"].append(comment.link_id)\n",
    "            r_Stocks_comments_dict[\"comment_score\"].append(comment.score)\n",
    "            r_Stocks_comments_dict[\"comment_time\"].append(comment.created)\n",
    "print('Scrape done')"
   ]
  },
  {
   "cell_type": "code",
   "execution_count": 12,
   "metadata": {},
   "outputs": [],
   "source": [
    "post_comments = pd.DataFrame(r_Stocks_comments_dict)\n",
    "post_data = pd.DataFrame(r_Stocks_post_dict)"
   ]
  },
  {
   "cell_type": "code",
   "execution_count": null,
   "metadata": {},
   "outputs": [],
   "source": [
    "post_comments.to_csv('comment_data.csv')\n",
    "post_data.to_csv('post_data.csv')"
   ]
  },
  {
   "cell_type": "code",
   "execution_count": null,
   "metadata": {},
   "outputs": [],
   "source": []
  }
 ],
 "metadata": {
  "kernelspec": {
   "display_name": "learn-env",
   "language": "python",
   "name": "python3"
  },
  "language_info": {
   "codemirror_mode": {
    "name": "ipython",
    "version": 3
   },
   "file_extension": ".py",
   "mimetype": "text/x-python",
   "name": "python",
   "nbconvert_exporter": "python",
   "pygments_lexer": "ipython3",
   "version": "3.8.1"
  },
  "orig_nbformat": 4
 },
 "nbformat": 4,
 "nbformat_minor": 2
}
